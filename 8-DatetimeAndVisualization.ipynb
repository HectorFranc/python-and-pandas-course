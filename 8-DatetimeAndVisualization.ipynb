{
  "nbformat": 4,
  "nbformat_minor": 0,
  "metadata": {
    "colab": {
      "name": "8.-TiempoVisualizacion.ipynb",
      "provenance": [],
      "collapsed_sections": [
        "Xgzk31k4UaoR",
        "_yn8EnMGcnYd",
        "qmq4u9GPcspp",
        "nbQ63D8Gc7II",
        "dUxoIzM9jagH"
      ],
      "authorship_tag": "ABX9TyOC5P92cfCUbu2OcMim7F0s"
    },
    "kernelspec": {
      "name": "python3",
      "display_name": "Python 3"
    }
  },
  "cells": [
    {
      "cell_type": "code",
      "metadata": {
        "id": "Nl8pt_d6CHAL",
        "colab_type": "code",
        "colab": {}
      },
      "source": [
        "import pandas as pd\n",
        "import numpy as np\n",
        "import matplotlib.pyplot as plt"
      ],
      "execution_count": 0,
      "outputs": []
    },
    {
      "cell_type": "code",
      "metadata": {
        "id": "aaINlUgCT622",
        "colab_type": "code",
        "colab": {}
      },
      "source": [
        "df = pd.read_csv('covid_19_data.csv')"
      ],
      "execution_count": 0,
      "outputs": []
    },
    {
      "cell_type": "code",
      "metadata": {
        "id": "ZR1W69DJT-Fa",
        "colab_type": "code",
        "colab": {
          "base_uri": "https://localhost:8080/",
          "height": 142
        },
        "outputId": "bfc26cea-c3aa-42f1-9bf8-932bacdf51e4"
      },
      "source": [
        "df.sample(3)"
      ],
      "execution_count": 4,
      "outputs": [
        {
          "output_type": "execute_result",
          "data": {
            "text/html": [
              "<div>\n",
              "<style scoped>\n",
              "    .dataframe tbody tr th:only-of-type {\n",
              "        vertical-align: middle;\n",
              "    }\n",
              "\n",
              "    .dataframe tbody tr th {\n",
              "        vertical-align: top;\n",
              "    }\n",
              "\n",
              "    .dataframe thead th {\n",
              "        text-align: right;\n",
              "    }\n",
              "</style>\n",
              "<table border=\"1\" class=\"dataframe\">\n",
              "  <thead>\n",
              "    <tr style=\"text-align: right;\">\n",
              "      <th></th>\n",
              "      <th>SNo</th>\n",
              "      <th>ObservationDate</th>\n",
              "      <th>Province/State</th>\n",
              "      <th>Country/Region</th>\n",
              "      <th>Last Update</th>\n",
              "      <th>Confirmed</th>\n",
              "      <th>Deaths</th>\n",
              "      <th>Recovered</th>\n",
              "    </tr>\n",
              "  </thead>\n",
              "  <tbody>\n",
              "    <tr>\n",
              "      <th>1481</th>\n",
              "      <td>1482</td>\n",
              "      <td>02/14/2020</td>\n",
              "      <td>NaN</td>\n",
              "      <td>Sri Lanka</td>\n",
              "      <td>2020-02-08T03:43:03</td>\n",
              "      <td>1.0</td>\n",
              "      <td>0.0</td>\n",
              "      <td>1.0</td>\n",
              "    </tr>\n",
              "    <tr>\n",
              "      <th>6840</th>\n",
              "      <td>6841</td>\n",
              "      <td>03/19/2020</td>\n",
              "      <td>NaN</td>\n",
              "      <td>Algeria</td>\n",
              "      <td>2020-03-19T16:13:36</td>\n",
              "      <td>87.0</td>\n",
              "      <td>9.0</td>\n",
              "      <td>32.0</td>\n",
              "    </tr>\n",
              "    <tr>\n",
              "      <th>24033</th>\n",
              "      <td>24034</td>\n",
              "      <td>05/12/2020</td>\n",
              "      <td>Henan</td>\n",
              "      <td>Mainland China</td>\n",
              "      <td>2020-05-13 03:32:26</td>\n",
              "      <td>1276.0</td>\n",
              "      <td>22.0</td>\n",
              "      <td>1254.0</td>\n",
              "    </tr>\n",
              "  </tbody>\n",
              "</table>\n",
              "</div>"
            ],
            "text/plain": [
              "         SNo ObservationDate Province/State  ... Confirmed Deaths  Recovered\n",
              "1481    1482      02/14/2020            NaN  ...       1.0    0.0        1.0\n",
              "6840    6841      03/19/2020            NaN  ...      87.0    9.0       32.0\n",
              "24033  24034      05/12/2020          Henan  ...    1276.0   22.0     1254.0\n",
              "\n",
              "[3 rows x 8 columns]"
            ]
          },
          "metadata": {
            "tags": []
          },
          "execution_count": 4
        }
      ]
    },
    {
      "cell_type": "markdown",
      "metadata": {
        "id": "Xgzk31k4UaoR",
        "colab_type": "text"
      },
      "source": [
        "## Convert\n",
        "---"
      ]
    },
    {
      "cell_type": "code",
      "metadata": {
        "id": "Qollls7SULeN",
        "colab_type": "code",
        "colab": {}
      },
      "source": [
        "df['ObservationDate'] = pd.to_datetime(df['ObservationDate'])"
      ],
      "execution_count": 0,
      "outputs": []
    },
    {
      "cell_type": "code",
      "metadata": {
        "id": "CId5qw9HUcOA",
        "colab_type": "code",
        "colab": {
          "base_uri": "https://localhost:8080/",
          "height": 169
        },
        "outputId": "996adf64-cf2c-4ae4-fd83-eea9ece55079"
      },
      "source": [
        "# Show all columns\n",
        "list(df)"
      ],
      "execution_count": 8,
      "outputs": [
        {
          "output_type": "execute_result",
          "data": {
            "text/plain": [
              "['SNo',\n",
              " 'ObservationDate',\n",
              " 'Province/State',\n",
              " 'Country/Region',\n",
              " 'Last Update',\n",
              " 'Confirmed',\n",
              " 'Deaths',\n",
              " 'Recovered']"
            ]
          },
          "metadata": {
            "tags": []
          },
          "execution_count": 8
        }
      ]
    },
    {
      "cell_type": "code",
      "metadata": {
        "id": "1I5VEuywUgBu",
        "colab_type": "code",
        "colab": {
          "base_uri": "https://localhost:8080/",
          "height": 111
        },
        "outputId": "4e73b6c5-aebc-45d9-ca4c-1188164efe8e"
      },
      "source": [
        "df = df[[\n",
        " 'ObservationDate',\n",
        " 'Country/Region',\n",
        " 'Confirmed',\n",
        " 'Deaths',\n",
        " 'Recovered']]\n",
        "df.sample(2)"
      ],
      "execution_count": 9,
      "outputs": [
        {
          "output_type": "execute_result",
          "data": {
            "text/html": [
              "<div>\n",
              "<style scoped>\n",
              "    .dataframe tbody tr th:only-of-type {\n",
              "        vertical-align: middle;\n",
              "    }\n",
              "\n",
              "    .dataframe tbody tr th {\n",
              "        vertical-align: top;\n",
              "    }\n",
              "\n",
              "    .dataframe thead th {\n",
              "        text-align: right;\n",
              "    }\n",
              "</style>\n",
              "<table border=\"1\" class=\"dataframe\">\n",
              "  <thead>\n",
              "    <tr style=\"text-align: right;\">\n",
              "      <th></th>\n",
              "      <th>ObservationDate</th>\n",
              "      <th>Country/Region</th>\n",
              "      <th>Confirmed</th>\n",
              "      <th>Deaths</th>\n",
              "      <th>Recovered</th>\n",
              "    </tr>\n",
              "  </thead>\n",
              "  <tbody>\n",
              "    <tr>\n",
              "      <th>20091</th>\n",
              "      <td>2020-04-30</td>\n",
              "      <td>Tanzania</td>\n",
              "      <td>480.0</td>\n",
              "      <td>16.0</td>\n",
              "      <td>167.0</td>\n",
              "    </tr>\n",
              "    <tr>\n",
              "      <th>27968</th>\n",
              "      <td>2020-05-22</td>\n",
              "      <td>Australia</td>\n",
              "      <td>29.0</td>\n",
              "      <td>0.0</td>\n",
              "      <td>29.0</td>\n",
              "    </tr>\n",
              "  </tbody>\n",
              "</table>\n",
              "</div>"
            ],
            "text/plain": [
              "      ObservationDate Country/Region  Confirmed  Deaths  Recovered\n",
              "20091      2020-04-30       Tanzania      480.0    16.0      167.0\n",
              "27968      2020-05-22      Australia       29.0     0.0       29.0"
            ]
          },
          "metadata": {
            "tags": []
          },
          "execution_count": 9
        }
      ]
    },
    {
      "cell_type": "code",
      "metadata": {
        "id": "vh75ujSVU4dv",
        "colab_type": "code",
        "colab": {
          "base_uri": "https://localhost:8080/",
          "height": 204
        },
        "outputId": "b5f9a98f-962b-4f5b-a33d-2867c112ae69"
      },
      "source": [
        "df_time = df.groupby('ObservationDate').sum()\n",
        "df_time.head(4)"
      ],
      "execution_count": 19,
      "outputs": [
        {
          "output_type": "execute_result",
          "data": {
            "text/html": [
              "<div>\n",
              "<style scoped>\n",
              "    .dataframe tbody tr th:only-of-type {\n",
              "        vertical-align: middle;\n",
              "    }\n",
              "\n",
              "    .dataframe tbody tr th {\n",
              "        vertical-align: top;\n",
              "    }\n",
              "\n",
              "    .dataframe thead th {\n",
              "        text-align: right;\n",
              "    }\n",
              "</style>\n",
              "<table border=\"1\" class=\"dataframe\">\n",
              "  <thead>\n",
              "    <tr style=\"text-align: right;\">\n",
              "      <th></th>\n",
              "      <th>Confirmed</th>\n",
              "      <th>Deaths</th>\n",
              "      <th>Recovered</th>\n",
              "    </tr>\n",
              "    <tr>\n",
              "      <th>ObservationDate</th>\n",
              "      <th></th>\n",
              "      <th></th>\n",
              "      <th></th>\n",
              "    </tr>\n",
              "  </thead>\n",
              "  <tbody>\n",
              "    <tr>\n",
              "      <th>2020-01-22</th>\n",
              "      <td>555.0</td>\n",
              "      <td>17.0</td>\n",
              "      <td>28.0</td>\n",
              "    </tr>\n",
              "    <tr>\n",
              "      <th>2020-01-23</th>\n",
              "      <td>653.0</td>\n",
              "      <td>18.0</td>\n",
              "      <td>30.0</td>\n",
              "    </tr>\n",
              "    <tr>\n",
              "      <th>2020-01-24</th>\n",
              "      <td>941.0</td>\n",
              "      <td>26.0</td>\n",
              "      <td>36.0</td>\n",
              "    </tr>\n",
              "    <tr>\n",
              "      <th>2020-01-25</th>\n",
              "      <td>1438.0</td>\n",
              "      <td>42.0</td>\n",
              "      <td>39.0</td>\n",
              "    </tr>\n",
              "  </tbody>\n",
              "</table>\n",
              "</div>"
            ],
            "text/plain": [
              "                 Confirmed  Deaths  Recovered\n",
              "ObservationDate                              \n",
              "2020-01-22           555.0    17.0       28.0\n",
              "2020-01-23           653.0    18.0       30.0\n",
              "2020-01-24           941.0    26.0       36.0\n",
              "2020-01-25          1438.0    42.0       39.0"
            ]
          },
          "metadata": {
            "tags": []
          },
          "execution_count": 19
        }
      ]
    },
    {
      "cell_type": "code",
      "metadata": {
        "id": "t5xUKbLNU9Ve",
        "colab_type": "code",
        "colab": {
          "base_uri": "https://localhost:8080/",
          "height": 150
        },
        "outputId": "36c47985-3471-48d6-f605-f72088830d09"
      },
      "source": [
        "df1 = df_time['Confirmed'].iloc[10:15]\n",
        "df1"
      ],
      "execution_count": 21,
      "outputs": [
        {
          "output_type": "execute_result",
          "data": {
            "text/plain": [
              "ObservationDate\n",
              "2020-02-01    12038.0\n",
              "2020-02-02    16787.0\n",
              "2020-02-03    19881.0\n",
              "2020-02-04    23892.0\n",
              "2020-02-05    27636.0\n",
              "Name: Confirmed, dtype: float64"
            ]
          },
          "metadata": {
            "tags": []
          },
          "execution_count": 21
        }
      ]
    },
    {
      "cell_type": "code",
      "metadata": {
        "id": "v9URMn6fVG1j",
        "colab_type": "code",
        "colab": {
          "base_uri": "https://localhost:8080/",
          "height": 150
        },
        "outputId": "cc0b2dfd-9cdc-46bd-cb4d-b33707770cc8"
      },
      "source": [
        "df2 = df_time['Deaths'].iloc[12:17]\n",
        "df2 "
      ],
      "execution_count": 22,
      "outputs": [
        {
          "output_type": "execute_result",
          "data": {
            "text/plain": [
              "ObservationDate\n",
              "2020-02-03    426.0\n",
              "2020-02-04    492.0\n",
              "2020-02-05    564.0\n",
              "2020-02-06    634.0\n",
              "2020-02-07    719.0\n",
              "Name: Deaths, dtype: float64"
            ]
          },
          "metadata": {
            "tags": []
          },
          "execution_count": 22
        }
      ]
    },
    {
      "cell_type": "markdown",
      "metadata": {
        "id": "_yn8EnMGcnYd",
        "colab_type": "text"
      },
      "source": [
        "## Pandas functions\n",
        "---"
      ]
    },
    {
      "cell_type": "code",
      "metadata": {
        "id": "8mDNopwyXlcE",
        "colab_type": "code",
        "colab": {
          "base_uri": "https://localhost:8080/",
          "height": 173
        },
        "outputId": "e822b60c-6dbd-47bb-ac9d-03d41bc7d977"
      },
      "source": [
        "# Diff returns difference between value \"x\" and value \"x-1\" in same column\n",
        "df_diff = df_time.diff()\n",
        "df_diff.head(3)"
      ],
      "execution_count": 27,
      "outputs": [
        {
          "output_type": "execute_result",
          "data": {
            "text/html": [
              "<div>\n",
              "<style scoped>\n",
              "    .dataframe tbody tr th:only-of-type {\n",
              "        vertical-align: middle;\n",
              "    }\n",
              "\n",
              "    .dataframe tbody tr th {\n",
              "        vertical-align: top;\n",
              "    }\n",
              "\n",
              "    .dataframe thead th {\n",
              "        text-align: right;\n",
              "    }\n",
              "</style>\n",
              "<table border=\"1\" class=\"dataframe\">\n",
              "  <thead>\n",
              "    <tr style=\"text-align: right;\">\n",
              "      <th></th>\n",
              "      <th>Confirmed</th>\n",
              "      <th>Deaths</th>\n",
              "      <th>Recovered</th>\n",
              "    </tr>\n",
              "    <tr>\n",
              "      <th>ObservationDate</th>\n",
              "      <th></th>\n",
              "      <th></th>\n",
              "      <th></th>\n",
              "    </tr>\n",
              "  </thead>\n",
              "  <tbody>\n",
              "    <tr>\n",
              "      <th>2020-01-22</th>\n",
              "      <td>NaN</td>\n",
              "      <td>NaN</td>\n",
              "      <td>NaN</td>\n",
              "    </tr>\n",
              "    <tr>\n",
              "      <th>2020-01-23</th>\n",
              "      <td>98.0</td>\n",
              "      <td>1.0</td>\n",
              "      <td>2.0</td>\n",
              "    </tr>\n",
              "    <tr>\n",
              "      <th>2020-01-24</th>\n",
              "      <td>288.0</td>\n",
              "      <td>8.0</td>\n",
              "      <td>6.0</td>\n",
              "    </tr>\n",
              "  </tbody>\n",
              "</table>\n",
              "</div>"
            ],
            "text/plain": [
              "                 Confirmed  Deaths  Recovered\n",
              "ObservationDate                              \n",
              "2020-01-22             NaN     NaN        NaN\n",
              "2020-01-23            98.0     1.0        2.0\n",
              "2020-01-24           288.0     8.0        6.0"
            ]
          },
          "metadata": {
            "tags": []
          },
          "execution_count": 27
        }
      ]
    },
    {
      "cell_type": "code",
      "metadata": {
        "id": "OBBYzfPYXzrl",
        "colab_type": "code",
        "colab": {}
      },
      "source": [
        "df_diff.fillna({\n",
        "  'Confirmed': 1,\n",
        "  'Deaths':  0,\n",
        "  'Recovered': 0\n",
        "}, inplace=True)"
      ],
      "execution_count": 0,
      "outputs": []
    },
    {
      "cell_type": "code",
      "metadata": {
        "id": "AV2taanMY3zS",
        "colab_type": "code",
        "colab": {
          "base_uri": "https://localhost:8080/",
          "height": 450
        },
        "outputId": "80b6dbde-da42-4941-a073-bf8285ed316a"
      },
      "source": [
        "# Cumulative sum. The opposite of .diff()\n",
        "df_diff.cumsum()"
      ],
      "execution_count": 40,
      "outputs": [
        {
          "output_type": "execute_result",
          "data": {
            "text/html": [
              "<div>\n",
              "<style scoped>\n",
              "    .dataframe tbody tr th:only-of-type {\n",
              "        vertical-align: middle;\n",
              "    }\n",
              "\n",
              "    .dataframe tbody tr th {\n",
              "        vertical-align: top;\n",
              "    }\n",
              "\n",
              "    .dataframe thead th {\n",
              "        text-align: right;\n",
              "    }\n",
              "</style>\n",
              "<table border=\"1\" class=\"dataframe\">\n",
              "  <thead>\n",
              "    <tr style=\"text-align: right;\">\n",
              "      <th></th>\n",
              "      <th>Confirmed</th>\n",
              "      <th>Deaths</th>\n",
              "      <th>Recovered</th>\n",
              "    </tr>\n",
              "    <tr>\n",
              "      <th>ObservationDate</th>\n",
              "      <th></th>\n",
              "      <th></th>\n",
              "      <th></th>\n",
              "    </tr>\n",
              "  </thead>\n",
              "  <tbody>\n",
              "    <tr>\n",
              "      <th>2020-01-22</th>\n",
              "      <td>1.0</td>\n",
              "      <td>0.0</td>\n",
              "      <td>0.0</td>\n",
              "    </tr>\n",
              "    <tr>\n",
              "      <th>2020-01-23</th>\n",
              "      <td>99.0</td>\n",
              "      <td>1.0</td>\n",
              "      <td>2.0</td>\n",
              "    </tr>\n",
              "    <tr>\n",
              "      <th>2020-01-24</th>\n",
              "      <td>387.0</td>\n",
              "      <td>9.0</td>\n",
              "      <td>8.0</td>\n",
              "    </tr>\n",
              "    <tr>\n",
              "      <th>2020-01-25</th>\n",
              "      <td>884.0</td>\n",
              "      <td>25.0</td>\n",
              "      <td>11.0</td>\n",
              "    </tr>\n",
              "    <tr>\n",
              "      <th>2020-01-26</th>\n",
              "      <td>1564.0</td>\n",
              "      <td>39.0</td>\n",
              "      <td>24.0</td>\n",
              "    </tr>\n",
              "    <tr>\n",
              "      <th>...</th>\n",
              "      <td>...</td>\n",
              "      <td>...</td>\n",
              "      <td>...</td>\n",
              "    </tr>\n",
              "    <tr>\n",
              "      <th>2020-05-21</th>\n",
              "      <td>5101870.0</td>\n",
              "      <td>332907.0</td>\n",
              "      <td>1948711.0</td>\n",
              "    </tr>\n",
              "    <tr>\n",
              "      <th>2020-05-22</th>\n",
              "      <td>5210263.0</td>\n",
              "      <td>338143.0</td>\n",
              "      <td>2056615.0</td>\n",
              "    </tr>\n",
              "    <tr>\n",
              "      <th>2020-05-23</th>\n",
              "      <td>5309808.0</td>\n",
              "      <td>342080.0</td>\n",
              "      <td>2112157.0</td>\n",
              "    </tr>\n",
              "    <tr>\n",
              "      <th>2020-05-24</th>\n",
              "      <td>5407059.0</td>\n",
              "      <td>345042.0</td>\n",
              "      <td>2168535.0</td>\n",
              "    </tr>\n",
              "    <tr>\n",
              "      <th>2020-05-25</th>\n",
              "      <td>5494507.0</td>\n",
              "      <td>346215.0</td>\n",
              "      <td>2231710.0</td>\n",
              "    </tr>\n",
              "  </tbody>\n",
              "</table>\n",
              "<p>125 rows × 3 columns</p>\n",
              "</div>"
            ],
            "text/plain": [
              "                 Confirmed    Deaths  Recovered\n",
              "ObservationDate                                \n",
              "2020-01-22             1.0       0.0        0.0\n",
              "2020-01-23            99.0       1.0        2.0\n",
              "2020-01-24           387.0       9.0        8.0\n",
              "2020-01-25           884.0      25.0       11.0\n",
              "2020-01-26          1564.0      39.0       24.0\n",
              "...                    ...       ...        ...\n",
              "2020-05-21       5101870.0  332907.0  1948711.0\n",
              "2020-05-22       5210263.0  338143.0  2056615.0\n",
              "2020-05-23       5309808.0  342080.0  2112157.0\n",
              "2020-05-24       5407059.0  345042.0  2168535.0\n",
              "2020-05-25       5494507.0  346215.0  2231710.0\n",
              "\n",
              "[125 rows x 3 columns]"
            ]
          },
          "metadata": {
            "tags": []
          },
          "execution_count": 40
        }
      ]
    },
    {
      "cell_type": "markdown",
      "metadata": {
        "id": "qmq4u9GPcspp",
        "colab_type": "text"
      },
      "source": [
        "## Resample\n",
        "---"
      ]
    },
    {
      "cell_type": "code",
      "metadata": {
        "id": "8q4BfI2dayEC",
        "colab_type": "code",
        "colab": {
          "base_uri": "https://localhost:8080/",
          "height": 638
        },
        "outputId": "60030a9a-d45e-4f14-9945-67f6ebfe0e16"
      },
      "source": [
        "# Resample is for datetime-index DF's. Splits every some time. This example is every 7 days\n",
        "# Works like groupby. You can apply some function to every sample.\n",
        "df_diff.resample('7D').sum()"
      ],
      "execution_count": 50,
      "outputs": [
        {
          "output_type": "execute_result",
          "data": {
            "text/html": [
              "<div>\n",
              "<style scoped>\n",
              "    .dataframe tbody tr th:only-of-type {\n",
              "        vertical-align: middle;\n",
              "    }\n",
              "\n",
              "    .dataframe tbody tr th {\n",
              "        vertical-align: top;\n",
              "    }\n",
              "\n",
              "    .dataframe thead th {\n",
              "        text-align: right;\n",
              "    }\n",
              "</style>\n",
              "<table border=\"1\" class=\"dataframe\">\n",
              "  <thead>\n",
              "    <tr style=\"text-align: right;\">\n",
              "      <th></th>\n",
              "      <th>Confirmed</th>\n",
              "      <th>Deaths</th>\n",
              "      <th>Recovered</th>\n",
              "    </tr>\n",
              "    <tr>\n",
              "      <th>ObservationDate</th>\n",
              "      <th></th>\n",
              "      <th></th>\n",
              "      <th></th>\n",
              "    </tr>\n",
              "  </thead>\n",
              "  <tbody>\n",
              "    <tr>\n",
              "      <th>2020-01-22</th>\n",
              "      <td>5024.0</td>\n",
              "      <td>114.0</td>\n",
              "      <td>79.0</td>\n",
              "    </tr>\n",
              "    <tr>\n",
              "      <th>2020-01-29</th>\n",
              "      <td>18314.0</td>\n",
              "      <td>361.0</td>\n",
              "      <td>745.0</td>\n",
              "    </tr>\n",
              "    <tr>\n",
              "      <th>2020-02-05</th>\n",
              "      <td>20911.0</td>\n",
              "      <td>621.0</td>\n",
              "      <td>3831.0</td>\n",
              "    </tr>\n",
              "    <tr>\n",
              "      <th>2020-02-12</th>\n",
              "      <td>30335.0</td>\n",
              "      <td>894.0</td>\n",
              "      <td>9669.0</td>\n",
              "    </tr>\n",
              "    <tr>\n",
              "      <th>2020-02-19</th>\n",
              "      <td>5277.0</td>\n",
              "      <td>701.0</td>\n",
              "      <td>13553.0</td>\n",
              "    </tr>\n",
              "    <tr>\n",
              "      <th>2020-02-26</th>\n",
              "      <td>12429.0</td>\n",
              "      <td>452.0</td>\n",
              "      <td>20324.0</td>\n",
              "    </tr>\n",
              "    <tr>\n",
              "      <th>2020-03-04</th>\n",
              "      <td>25738.0</td>\n",
              "      <td>1102.0</td>\n",
              "      <td>16175.0</td>\n",
              "    </tr>\n",
              "    <tr>\n",
              "      <th>2020-03-11</th>\n",
              "      <td>78586.0</td>\n",
              "      <td>3643.0</td>\n",
              "      <td>16436.0</td>\n",
              "    </tr>\n",
              "    <tr>\n",
              "      <th>2020-03-18</th>\n",
              "      <td>220794.0</td>\n",
              "      <td>10710.0</td>\n",
              "      <td>26859.0</td>\n",
              "    </tr>\n",
              "    <tr>\n",
              "      <th>2020-03-25</th>\n",
              "      <td>439525.0</td>\n",
              "      <td>23492.0</td>\n",
              "      <td>70329.0</td>\n",
              "    </tr>\n",
              "    <tr>\n",
              "      <th>2020-04-01</th>\n",
              "      <td>568609.0</td>\n",
              "      <td>39758.0</td>\n",
              "      <td>122026.0</td>\n",
              "    </tr>\n",
              "    <tr>\n",
              "      <th>2020-04-08</th>\n",
              "      <td>550096.0</td>\n",
              "      <td>44119.0</td>\n",
              "      <td>174207.0</td>\n",
              "    </tr>\n",
              "    <tr>\n",
              "      <th>2020-04-15</th>\n",
              "      <td>572931.0</td>\n",
              "      <td>50599.0</td>\n",
              "      <td>205558.0</td>\n",
              "    </tr>\n",
              "    <tr>\n",
              "      <th>2020-04-22</th>\n",
              "      <td>567275.0</td>\n",
              "      <td>40570.0</td>\n",
              "      <td>248839.0</td>\n",
              "    </tr>\n",
              "    <tr>\n",
              "      <th>2020-04-29</th>\n",
              "      <td>546293.0</td>\n",
              "      <td>40086.0</td>\n",
              "      <td>270174.0</td>\n",
              "    </tr>\n",
              "    <tr>\n",
              "      <th>2020-05-06</th>\n",
              "      <td>599264.0</td>\n",
              "      <td>34725.0</td>\n",
              "      <td>294582.0</td>\n",
              "    </tr>\n",
              "    <tr>\n",
              "      <th>2020-05-13</th>\n",
              "      <td>635537.0</td>\n",
              "      <td>31321.0</td>\n",
              "      <td>345581.0</td>\n",
              "    </tr>\n",
              "    <tr>\n",
              "      <th>2020-05-20</th>\n",
              "      <td>597569.0</td>\n",
              "      <td>22947.0</td>\n",
              "      <td>392743.0</td>\n",
              "    </tr>\n",
              "  </tbody>\n",
              "</table>\n",
              "</div>"
            ],
            "text/plain": [
              "                 Confirmed   Deaths  Recovered\n",
              "ObservationDate                               \n",
              "2020-01-22          5024.0    114.0       79.0\n",
              "2020-01-29         18314.0    361.0      745.0\n",
              "2020-02-05         20911.0    621.0     3831.0\n",
              "2020-02-12         30335.0    894.0     9669.0\n",
              "2020-02-19          5277.0    701.0    13553.0\n",
              "2020-02-26         12429.0    452.0    20324.0\n",
              "2020-03-04         25738.0   1102.0    16175.0\n",
              "2020-03-11         78586.0   3643.0    16436.0\n",
              "2020-03-18        220794.0  10710.0    26859.0\n",
              "2020-03-25        439525.0  23492.0    70329.0\n",
              "2020-04-01        568609.0  39758.0   122026.0\n",
              "2020-04-08        550096.0  44119.0   174207.0\n",
              "2020-04-15        572931.0  50599.0   205558.0\n",
              "2020-04-22        567275.0  40570.0   248839.0\n",
              "2020-04-29        546293.0  40086.0   270174.0\n",
              "2020-05-06        599264.0  34725.0   294582.0\n",
              "2020-05-13        635537.0  31321.0   345581.0\n",
              "2020-05-20        597569.0  22947.0   392743.0"
            ]
          },
          "metadata": {
            "tags": []
          },
          "execution_count": 50
        }
      ]
    },
    {
      "cell_type": "code",
      "metadata": {
        "id": "xwbfZXVRbMeM",
        "colab_type": "code",
        "colab": {
          "base_uri": "https://localhost:8080/",
          "height": 669
        },
        "outputId": "92b7d765-6fe8-42d2-ab53-bff47321acf6"
      },
      "source": [
        "# Every Week on Sunday\n",
        "df_diff.resample('W-Sun').sum()"
      ],
      "execution_count": 52,
      "outputs": [
        {
          "output_type": "execute_result",
          "data": {
            "text/html": [
              "<div>\n",
              "<style scoped>\n",
              "    .dataframe tbody tr th:only-of-type {\n",
              "        vertical-align: middle;\n",
              "    }\n",
              "\n",
              "    .dataframe tbody tr th {\n",
              "        vertical-align: top;\n",
              "    }\n",
              "\n",
              "    .dataframe thead th {\n",
              "        text-align: right;\n",
              "    }\n",
              "</style>\n",
              "<table border=\"1\" class=\"dataframe\">\n",
              "  <thead>\n",
              "    <tr style=\"text-align: right;\">\n",
              "      <th></th>\n",
              "      <th>Confirmed</th>\n",
              "      <th>Deaths</th>\n",
              "      <th>Recovered</th>\n",
              "    </tr>\n",
              "    <tr>\n",
              "      <th>ObservationDate</th>\n",
              "      <th></th>\n",
              "      <th></th>\n",
              "      <th></th>\n",
              "    </tr>\n",
              "  </thead>\n",
              "  <tbody>\n",
              "    <tr>\n",
              "      <th>2020-01-26</th>\n",
              "      <td>1564.0</td>\n",
              "      <td>39.0</td>\n",
              "      <td>24.0</td>\n",
              "    </tr>\n",
              "    <tr>\n",
              "      <th>2020-02-02</th>\n",
              "      <td>14669.0</td>\n",
              "      <td>306.0</td>\n",
              "      <td>420.0</td>\n",
              "    </tr>\n",
              "    <tr>\n",
              "      <th>2020-02-09</th>\n",
              "      <td>23364.0</td>\n",
              "      <td>544.0</td>\n",
              "      <td>2772.0</td>\n",
              "    </tr>\n",
              "    <tr>\n",
              "      <th>2020-02-16</th>\n",
              "      <td>31075.0</td>\n",
              "      <td>864.0</td>\n",
              "      <td>7621.0</td>\n",
              "    </tr>\n",
              "    <tr>\n",
              "      <th>2020-02-23</th>\n",
              "      <td>7759.0</td>\n",
              "      <td>699.0</td>\n",
              "      <td>12529.0</td>\n",
              "    </tr>\n",
              "    <tr>\n",
              "      <th>2020-03-01</th>\n",
              "      <td>9386.0</td>\n",
              "      <td>527.0</td>\n",
              "      <td>19322.0</td>\n",
              "    </tr>\n",
              "    <tr>\n",
              "      <th>2020-03-08</th>\n",
              "      <td>21464.0</td>\n",
              "      <td>807.0</td>\n",
              "      <td>17979.0</td>\n",
              "    </tr>\n",
              "    <tr>\n",
              "      <th>2020-03-15</th>\n",
              "      <td>57612.0</td>\n",
              "      <td>2637.0</td>\n",
              "      <td>15339.0</td>\n",
              "    </tr>\n",
              "    <tr>\n",
              "      <th>2020-03-22</th>\n",
              "      <td>169675.0</td>\n",
              "      <td>8183.0</td>\n",
              "      <td>21209.0</td>\n",
              "    </tr>\n",
              "    <tr>\n",
              "      <th>2020-03-29</th>\n",
              "      <td>383018.0</td>\n",
              "      <td>19302.0</td>\n",
              "      <td>51833.0</td>\n",
              "    </tr>\n",
              "    <tr>\n",
              "      <th>2020-04-05</th>\n",
              "      <td>551975.0</td>\n",
              "      <td>35449.0</td>\n",
              "      <td>110936.0</td>\n",
              "    </tr>\n",
              "    <tr>\n",
              "      <th>2020-04-12</th>\n",
              "      <td>574565.0</td>\n",
              "      <td>44715.0</td>\n",
              "      <td>161710.0</td>\n",
              "    </tr>\n",
              "    <tr>\n",
              "      <th>2020-04-19</th>\n",
              "      <td>554699.0</td>\n",
              "      <td>50955.0</td>\n",
              "      <td>202181.0</td>\n",
              "    </tr>\n",
              "    <tr>\n",
              "      <th>2020-04-26</th>\n",
              "      <td>570096.0</td>\n",
              "      <td>41500.0</td>\n",
              "      <td>241830.0</td>\n",
              "    </tr>\n",
              "    <tr>\n",
              "      <th>2020-05-03</th>\n",
              "      <td>535254.0</td>\n",
              "      <td>40926.0</td>\n",
              "      <td>259503.0</td>\n",
              "    </tr>\n",
              "    <tr>\n",
              "      <th>2020-05-10</th>\n",
              "      <td>594970.0</td>\n",
              "      <td>35239.0</td>\n",
              "      <td>283744.0</td>\n",
              "    </tr>\n",
              "    <tr>\n",
              "      <th>2020-05-17</th>\n",
              "      <td>611921.0</td>\n",
              "      <td>32476.0</td>\n",
              "      <td>324983.0</td>\n",
              "    </tr>\n",
              "    <tr>\n",
              "      <th>2020-05-24</th>\n",
              "      <td>693993.0</td>\n",
              "      <td>29874.0</td>\n",
              "      <td>434600.0</td>\n",
              "    </tr>\n",
              "    <tr>\n",
              "      <th>2020-05-31</th>\n",
              "      <td>87448.0</td>\n",
              "      <td>1173.0</td>\n",
              "      <td>63175.0</td>\n",
              "    </tr>\n",
              "  </tbody>\n",
              "</table>\n",
              "</div>"
            ],
            "text/plain": [
              "                 Confirmed   Deaths  Recovered\n",
              "ObservationDate                               \n",
              "2020-01-26          1564.0     39.0       24.0\n",
              "2020-02-02         14669.0    306.0      420.0\n",
              "2020-02-09         23364.0    544.0     2772.0\n",
              "2020-02-16         31075.0    864.0     7621.0\n",
              "2020-02-23          7759.0    699.0    12529.0\n",
              "2020-03-01          9386.0    527.0    19322.0\n",
              "2020-03-08         21464.0    807.0    17979.0\n",
              "2020-03-15         57612.0   2637.0    15339.0\n",
              "2020-03-22        169675.0   8183.0    21209.0\n",
              "2020-03-29        383018.0  19302.0    51833.0\n",
              "2020-04-05        551975.0  35449.0   110936.0\n",
              "2020-04-12        574565.0  44715.0   161710.0\n",
              "2020-04-19        554699.0  50955.0   202181.0\n",
              "2020-04-26        570096.0  41500.0   241830.0\n",
              "2020-05-03        535254.0  40926.0   259503.0\n",
              "2020-05-10        594970.0  35239.0   283744.0\n",
              "2020-05-17        611921.0  32476.0   324983.0\n",
              "2020-05-24        693993.0  29874.0   434600.0\n",
              "2020-05-31         87448.0   1173.0    63175.0"
            ]
          },
          "metadata": {
            "tags": []
          },
          "execution_count": 52
        }
      ]
    },
    {
      "cell_type": "code",
      "metadata": {
        "id": "OD2qlYezcD7Z",
        "colab_type": "code",
        "colab": {
          "base_uri": "https://localhost:8080/",
          "height": 235
        },
        "outputId": "08aafeae-969b-4c26-91c8-8a25818e2905"
      },
      "source": [
        "# Monthly sample\n",
        "df_diff.resample('M').sum()"
      ],
      "execution_count": 53,
      "outputs": [
        {
          "output_type": "execute_result",
          "data": {
            "text/html": [
              "<div>\n",
              "<style scoped>\n",
              "    .dataframe tbody tr th:only-of-type {\n",
              "        vertical-align: middle;\n",
              "    }\n",
              "\n",
              "    .dataframe tbody tr th {\n",
              "        vertical-align: top;\n",
              "    }\n",
              "\n",
              "    .dataframe thead th {\n",
              "        text-align: right;\n",
              "    }\n",
              "</style>\n",
              "<table border=\"1\" class=\"dataframe\">\n",
              "  <thead>\n",
              "    <tr style=\"text-align: right;\">\n",
              "      <th></th>\n",
              "      <th>Confirmed</th>\n",
              "      <th>Deaths</th>\n",
              "      <th>Recovered</th>\n",
              "    </tr>\n",
              "    <tr>\n",
              "      <th>ObservationDate</th>\n",
              "      <th></th>\n",
              "      <th></th>\n",
              "      <th></th>\n",
              "    </tr>\n",
              "  </thead>\n",
              "  <tbody>\n",
              "    <tr>\n",
              "      <th>2020-01-31</th>\n",
              "      <td>9371.0</td>\n",
              "      <td>196.0</td>\n",
              "      <td>194.0</td>\n",
              "    </tr>\n",
              "    <tr>\n",
              "      <th>2020-02-29</th>\n",
              "      <td>76088.0</td>\n",
              "      <td>2728.0</td>\n",
              "      <td>39560.0</td>\n",
              "    </tr>\n",
              "    <tr>\n",
              "      <th>2020-03-31</th>\n",
              "      <td>771474.0</td>\n",
              "      <td>39166.0</td>\n",
              "      <td>138246.0</td>\n",
              "    </tr>\n",
              "    <tr>\n",
              "      <th>2020-04-30</th>\n",
              "      <td>2399359.0</td>\n",
              "      <td>191281.0</td>\n",
              "      <td>836725.0</td>\n",
              "    </tr>\n",
              "    <tr>\n",
              "      <th>2020-05-31</th>\n",
              "      <td>2238215.0</td>\n",
              "      <td>112844.0</td>\n",
              "      <td>1216985.0</td>\n",
              "    </tr>\n",
              "  </tbody>\n",
              "</table>\n",
              "</div>"
            ],
            "text/plain": [
              "                 Confirmed    Deaths  Recovered\n",
              "ObservationDate                                \n",
              "2020-01-31          9371.0     196.0      194.0\n",
              "2020-02-29         76088.0    2728.0    39560.0\n",
              "2020-03-31        771474.0   39166.0   138246.0\n",
              "2020-04-30       2399359.0  191281.0   836725.0\n",
              "2020-05-31       2238215.0  112844.0  1216985.0"
            ]
          },
          "metadata": {
            "tags": []
          },
          "execution_count": 53
        }
      ]
    },
    {
      "cell_type": "markdown",
      "metadata": {
        "id": "nbQ63D8Gc7II",
        "colab_type": "text"
      },
      "source": [
        "## Na's\n",
        "---"
      ]
    },
    {
      "cell_type": "code",
      "metadata": {
        "id": "nc_OwKt8cX2L",
        "colab_type": "code",
        "colab": {}
      },
      "source": [
        "# Min_count is min num of rows that will sum. If not will show NaN\n",
        "df_cum = df_time.resample('12h').sum(min_count=1)"
      ],
      "execution_count": 0,
      "outputs": []
    },
    {
      "cell_type": "code",
      "metadata": {
        "id": "8D_l6CA4c5Do",
        "colab_type": "code",
        "colab": {
          "base_uri": "https://localhost:8080/",
          "height": 450
        },
        "outputId": "9c2e894a-c490-4d40-8d4b-aa7c2f37d7dc"
      },
      "source": [
        "# df_cum.fillna(method='bfill').equals(df_cum.bfill()) == True\n",
        "# Fills Na's with next value\n",
        "df_cum.bfill()"
      ],
      "execution_count": 59,
      "outputs": [
        {
          "output_type": "execute_result",
          "data": {
            "text/html": [
              "<div>\n",
              "<style scoped>\n",
              "    .dataframe tbody tr th:only-of-type {\n",
              "        vertical-align: middle;\n",
              "    }\n",
              "\n",
              "    .dataframe tbody tr th {\n",
              "        vertical-align: top;\n",
              "    }\n",
              "\n",
              "    .dataframe thead th {\n",
              "        text-align: right;\n",
              "    }\n",
              "</style>\n",
              "<table border=\"1\" class=\"dataframe\">\n",
              "  <thead>\n",
              "    <tr style=\"text-align: right;\">\n",
              "      <th></th>\n",
              "      <th>Confirmed</th>\n",
              "      <th>Deaths</th>\n",
              "      <th>Recovered</th>\n",
              "    </tr>\n",
              "    <tr>\n",
              "      <th>ObservationDate</th>\n",
              "      <th></th>\n",
              "      <th></th>\n",
              "      <th></th>\n",
              "    </tr>\n",
              "  </thead>\n",
              "  <tbody>\n",
              "    <tr>\n",
              "      <th>2020-01-22 00:00:00</th>\n",
              "      <td>555.0</td>\n",
              "      <td>17.0</td>\n",
              "      <td>28.0</td>\n",
              "    </tr>\n",
              "    <tr>\n",
              "      <th>2020-01-22 12:00:00</th>\n",
              "      <td>653.0</td>\n",
              "      <td>18.0</td>\n",
              "      <td>30.0</td>\n",
              "    </tr>\n",
              "    <tr>\n",
              "      <th>2020-01-23 00:00:00</th>\n",
              "      <td>653.0</td>\n",
              "      <td>18.0</td>\n",
              "      <td>30.0</td>\n",
              "    </tr>\n",
              "    <tr>\n",
              "      <th>2020-01-23 12:00:00</th>\n",
              "      <td>941.0</td>\n",
              "      <td>26.0</td>\n",
              "      <td>36.0</td>\n",
              "    </tr>\n",
              "    <tr>\n",
              "      <th>2020-01-24 00:00:00</th>\n",
              "      <td>941.0</td>\n",
              "      <td>26.0</td>\n",
              "      <td>36.0</td>\n",
              "    </tr>\n",
              "    <tr>\n",
              "      <th>...</th>\n",
              "      <td>...</td>\n",
              "      <td>...</td>\n",
              "      <td>...</td>\n",
              "    </tr>\n",
              "    <tr>\n",
              "      <th>2020-05-23 00:00:00</th>\n",
              "      <td>5310362.0</td>\n",
              "      <td>342097.0</td>\n",
              "      <td>2112185.0</td>\n",
              "    </tr>\n",
              "    <tr>\n",
              "      <th>2020-05-23 12:00:00</th>\n",
              "      <td>5407613.0</td>\n",
              "      <td>345059.0</td>\n",
              "      <td>2168563.0</td>\n",
              "    </tr>\n",
              "    <tr>\n",
              "      <th>2020-05-24 00:00:00</th>\n",
              "      <td>5407613.0</td>\n",
              "      <td>345059.0</td>\n",
              "      <td>2168563.0</td>\n",
              "    </tr>\n",
              "    <tr>\n",
              "      <th>2020-05-24 12:00:00</th>\n",
              "      <td>5495061.0</td>\n",
              "      <td>346232.0</td>\n",
              "      <td>2231738.0</td>\n",
              "    </tr>\n",
              "    <tr>\n",
              "      <th>2020-05-25 00:00:00</th>\n",
              "      <td>5495061.0</td>\n",
              "      <td>346232.0</td>\n",
              "      <td>2231738.0</td>\n",
              "    </tr>\n",
              "  </tbody>\n",
              "</table>\n",
              "<p>249 rows × 3 columns</p>\n",
              "</div>"
            ],
            "text/plain": [
              "                     Confirmed    Deaths  Recovered\n",
              "ObservationDate                                    \n",
              "2020-01-22 00:00:00      555.0      17.0       28.0\n",
              "2020-01-22 12:00:00      653.0      18.0       30.0\n",
              "2020-01-23 00:00:00      653.0      18.0       30.0\n",
              "2020-01-23 12:00:00      941.0      26.0       36.0\n",
              "2020-01-24 00:00:00      941.0      26.0       36.0\n",
              "...                        ...       ...        ...\n",
              "2020-05-23 00:00:00  5310362.0  342097.0  2112185.0\n",
              "2020-05-23 12:00:00  5407613.0  345059.0  2168563.0\n",
              "2020-05-24 00:00:00  5407613.0  345059.0  2168563.0\n",
              "2020-05-24 12:00:00  5495061.0  346232.0  2231738.0\n",
              "2020-05-25 00:00:00  5495061.0  346232.0  2231738.0\n",
              "\n",
              "[249 rows x 3 columns]"
            ]
          },
          "metadata": {
            "tags": []
          },
          "execution_count": 59
        }
      ]
    },
    {
      "cell_type": "code",
      "metadata": {
        "id": "6LzNUQ2yddW5",
        "colab_type": "code",
        "colab": {
          "base_uri": "https://localhost:8080/",
          "height": 450
        },
        "outputId": "c762f873-d4ba-4444-dc5d-cf30e80b9a97"
      },
      "source": [
        "# Fills Na's with previous value\n",
        "df_cum.ffill() "
      ],
      "execution_count": 60,
      "outputs": [
        {
          "output_type": "execute_result",
          "data": {
            "text/html": [
              "<div>\n",
              "<style scoped>\n",
              "    .dataframe tbody tr th:only-of-type {\n",
              "        vertical-align: middle;\n",
              "    }\n",
              "\n",
              "    .dataframe tbody tr th {\n",
              "        vertical-align: top;\n",
              "    }\n",
              "\n",
              "    .dataframe thead th {\n",
              "        text-align: right;\n",
              "    }\n",
              "</style>\n",
              "<table border=\"1\" class=\"dataframe\">\n",
              "  <thead>\n",
              "    <tr style=\"text-align: right;\">\n",
              "      <th></th>\n",
              "      <th>Confirmed</th>\n",
              "      <th>Deaths</th>\n",
              "      <th>Recovered</th>\n",
              "    </tr>\n",
              "    <tr>\n",
              "      <th>ObservationDate</th>\n",
              "      <th></th>\n",
              "      <th></th>\n",
              "      <th></th>\n",
              "    </tr>\n",
              "  </thead>\n",
              "  <tbody>\n",
              "    <tr>\n",
              "      <th>2020-01-22 00:00:00</th>\n",
              "      <td>555.0</td>\n",
              "      <td>17.0</td>\n",
              "      <td>28.0</td>\n",
              "    </tr>\n",
              "    <tr>\n",
              "      <th>2020-01-22 12:00:00</th>\n",
              "      <td>555.0</td>\n",
              "      <td>17.0</td>\n",
              "      <td>28.0</td>\n",
              "    </tr>\n",
              "    <tr>\n",
              "      <th>2020-01-23 00:00:00</th>\n",
              "      <td>653.0</td>\n",
              "      <td>18.0</td>\n",
              "      <td>30.0</td>\n",
              "    </tr>\n",
              "    <tr>\n",
              "      <th>2020-01-23 12:00:00</th>\n",
              "      <td>653.0</td>\n",
              "      <td>18.0</td>\n",
              "      <td>30.0</td>\n",
              "    </tr>\n",
              "    <tr>\n",
              "      <th>2020-01-24 00:00:00</th>\n",
              "      <td>941.0</td>\n",
              "      <td>26.0</td>\n",
              "      <td>36.0</td>\n",
              "    </tr>\n",
              "    <tr>\n",
              "      <th>...</th>\n",
              "      <td>...</td>\n",
              "      <td>...</td>\n",
              "      <td>...</td>\n",
              "    </tr>\n",
              "    <tr>\n",
              "      <th>2020-05-23 00:00:00</th>\n",
              "      <td>5310362.0</td>\n",
              "      <td>342097.0</td>\n",
              "      <td>2112185.0</td>\n",
              "    </tr>\n",
              "    <tr>\n",
              "      <th>2020-05-23 12:00:00</th>\n",
              "      <td>5310362.0</td>\n",
              "      <td>342097.0</td>\n",
              "      <td>2112185.0</td>\n",
              "    </tr>\n",
              "    <tr>\n",
              "      <th>2020-05-24 00:00:00</th>\n",
              "      <td>5407613.0</td>\n",
              "      <td>345059.0</td>\n",
              "      <td>2168563.0</td>\n",
              "    </tr>\n",
              "    <tr>\n",
              "      <th>2020-05-24 12:00:00</th>\n",
              "      <td>5407613.0</td>\n",
              "      <td>345059.0</td>\n",
              "      <td>2168563.0</td>\n",
              "    </tr>\n",
              "    <tr>\n",
              "      <th>2020-05-25 00:00:00</th>\n",
              "      <td>5495061.0</td>\n",
              "      <td>346232.0</td>\n",
              "      <td>2231738.0</td>\n",
              "    </tr>\n",
              "  </tbody>\n",
              "</table>\n",
              "<p>249 rows × 3 columns</p>\n",
              "</div>"
            ],
            "text/plain": [
              "                     Confirmed    Deaths  Recovered\n",
              "ObservationDate                                    \n",
              "2020-01-22 00:00:00      555.0      17.0       28.0\n",
              "2020-01-22 12:00:00      555.0      17.0       28.0\n",
              "2020-01-23 00:00:00      653.0      18.0       30.0\n",
              "2020-01-23 12:00:00      653.0      18.0       30.0\n",
              "2020-01-24 00:00:00      941.0      26.0       36.0\n",
              "...                        ...       ...        ...\n",
              "2020-05-23 00:00:00  5310362.0  342097.0  2112185.0\n",
              "2020-05-23 12:00:00  5310362.0  342097.0  2112185.0\n",
              "2020-05-24 00:00:00  5407613.0  345059.0  2168563.0\n",
              "2020-05-24 12:00:00  5407613.0  345059.0  2168563.0\n",
              "2020-05-25 00:00:00  5495061.0  346232.0  2231738.0\n",
              "\n",
              "[249 rows x 3 columns]"
            ]
          },
          "metadata": {
            "tags": []
          },
          "execution_count": 60
        }
      ]
    },
    {
      "cell_type": "code",
      "metadata": {
        "id": "HrlV7N8Ed2UJ",
        "colab_type": "code",
        "colab": {}
      },
      "source": [
        "df_cum = df_cum.interpolate()"
      ],
      "execution_count": 0,
      "outputs": []
    },
    {
      "cell_type": "markdown",
      "metadata": {
        "id": "dUxoIzM9jagH",
        "colab_type": "text"
      },
      "source": [
        "## Grouping by time series\n",
        "---"
      ]
    },
    {
      "cell_type": "code",
      "metadata": {
        "id": "204ZPC4eeSlF",
        "colab_type": "code",
        "colab": {
          "base_uri": "https://localhost:8080/",
          "height": 111
        },
        "outputId": "87da9305-c4e6-49d1-81d5-b08a5069aab6"
      },
      "source": [
        "df_cum['rate'] = 1 - df_cum['Deaths']/df_cum['Confirmed']\n",
        "df_cum.reset_index(inplace=True)\n",
        "df_cum.sample(2)"
      ],
      "execution_count": 63,
      "outputs": [
        {
          "output_type": "execute_result",
          "data": {
            "text/html": [
              "<div>\n",
              "<style scoped>\n",
              "    .dataframe tbody tr th:only-of-type {\n",
              "        vertical-align: middle;\n",
              "    }\n",
              "\n",
              "    .dataframe tbody tr th {\n",
              "        vertical-align: top;\n",
              "    }\n",
              "\n",
              "    .dataframe thead th {\n",
              "        text-align: right;\n",
              "    }\n",
              "</style>\n",
              "<table border=\"1\" class=\"dataframe\">\n",
              "  <thead>\n",
              "    <tr style=\"text-align: right;\">\n",
              "      <th></th>\n",
              "      <th>ObservationDate</th>\n",
              "      <th>Confirmed</th>\n",
              "      <th>Deaths</th>\n",
              "      <th>Recovered</th>\n",
              "      <th>rate</th>\n",
              "    </tr>\n",
              "  </thead>\n",
              "  <tbody>\n",
              "    <tr>\n",
              "      <th>231</th>\n",
              "      <td>2020-05-16 12:00:00</td>\n",
              "      <td>4673844.0</td>\n",
              "      <td>313483.0</td>\n",
              "      <td>1713580.0</td>\n",
              "      <td>0.932928</td>\n",
              "    </tr>\n",
              "    <tr>\n",
              "      <th>133</th>\n",
              "      <td>2020-03-28 12:00:00</td>\n",
              "      <td>690416.5</td>\n",
              "      <td>32288.5</td>\n",
              "      <td>144242.5</td>\n",
              "      <td>0.953233</td>\n",
              "    </tr>\n",
              "  </tbody>\n",
              "</table>\n",
              "</div>"
            ],
            "text/plain": [
              "        ObservationDate  Confirmed    Deaths  Recovered      rate\n",
              "231 2020-05-16 12:00:00  4673844.0  313483.0  1713580.0  0.932928\n",
              "133 2020-03-28 12:00:00   690416.5   32288.5   144242.5  0.953233"
            ]
          },
          "metadata": {
            "tags": []
          },
          "execution_count": 63
        }
      ]
    },
    {
      "cell_type": "code",
      "metadata": {
        "id": "6O5yAeqWelmJ",
        "colab_type": "code",
        "colab": {
          "base_uri": "https://localhost:8080/",
          "height": 235
        },
        "outputId": "bbf94d53-6aec-4ca1-8b56-1590309d1631"
      },
      "source": [
        "df_cum.groupby(pd.Grouper(key='ObservationDate', freq='M'))[['rate']].mean()"
      ],
      "execution_count": 72,
      "outputs": [
        {
          "output_type": "execute_result",
          "data": {
            "text/html": [
              "<div>\n",
              "<style scoped>\n",
              "    .dataframe tbody tr th:only-of-type {\n",
              "        vertical-align: middle;\n",
              "    }\n",
              "\n",
              "    .dataframe tbody tr th {\n",
              "        vertical-align: top;\n",
              "    }\n",
              "\n",
              "    .dataframe thead th {\n",
              "        text-align: right;\n",
              "    }\n",
              "</style>\n",
              "<table border=\"1\" class=\"dataframe\">\n",
              "  <thead>\n",
              "    <tr style=\"text-align: right;\">\n",
              "      <th></th>\n",
              "      <th>rate</th>\n",
              "    </tr>\n",
              "    <tr>\n",
              "      <th>ObservationDate</th>\n",
              "      <th></th>\n",
              "    </tr>\n",
              "  </thead>\n",
              "  <tbody>\n",
              "    <tr>\n",
              "      <th>2020-01-31</th>\n",
              "      <td>0.974594</td>\n",
              "    </tr>\n",
              "    <tr>\n",
              "      <th>2020-02-29</th>\n",
              "      <td>0.973562</td>\n",
              "    </tr>\n",
              "    <tr>\n",
              "      <th>2020-03-31</th>\n",
              "      <td>0.960070</td>\n",
              "    </tr>\n",
              "    <tr>\n",
              "      <th>2020-04-30</th>\n",
              "      <td>0.936029</td>\n",
              "    </tr>\n",
              "    <tr>\n",
              "      <th>2020-05-31</th>\n",
              "      <td>0.932117</td>\n",
              "    </tr>\n",
              "  </tbody>\n",
              "</table>\n",
              "</div>"
            ],
            "text/plain": [
              "                     rate\n",
              "ObservationDate          \n",
              "2020-01-31       0.974594\n",
              "2020-02-29       0.973562\n",
              "2020-03-31       0.960070\n",
              "2020-04-30       0.936029\n",
              "2020-05-31       0.932117"
            ]
          },
          "metadata": {
            "tags": []
          },
          "execution_count": 72
        }
      ]
    },
    {
      "cell_type": "code",
      "metadata": {
        "id": "HnsOqO1-fZKx",
        "colab_type": "code",
        "colab": {
          "base_uri": "https://localhost:8080/",
          "height": 310
        },
        "outputId": "aa88b743-dadb-45e6-c396-963bbf82007b"
      },
      "source": [
        "sr = df_cum.groupby(pd.Grouper(key='ObservationDate', freq='1d'))['rate'].mean()\n",
        "sr.plot()"
      ],
      "execution_count": 74,
      "outputs": [
        {
          "output_type": "execute_result",
          "data": {
            "text/plain": [
              "<matplotlib.axes._subplots.AxesSubplot at 0x7fc372015ac8>"
            ]
          },
          "metadata": {
            "tags": []
          },
          "execution_count": 74
        },
        {
          "output_type": "display_data",
          "data": {
            "image/png": "[encoded data removed]",
            "text/plain": [
              "<Figure size 432x288 with 1 Axes>"
            ]
          },
          "metadata": {
            "tags": [],
            "needs_background": "light"
          }
        }
      ]
    },
    {
      "cell_type": "code",
      "metadata": {
        "id": "dPYf5TmmgKzf",
        "colab_type": "code",
        "colab": {
          "base_uri": "https://localhost:8080/",
          "height": 310
        },
        "outputId": "684a12ef-6e6c-47fb-8c8d-02c8279973bd"
      },
      "source": [
        "sr.plot(label='Original')\n",
        "sr.rolling(window=7).mean().plot(label='7 days')\n",
        "sr.rolling(window=14).mean().plot(label='14 days')"
      ],
      "execution_count": 84,
      "outputs": [
        {
          "output_type": "execute_result",
          "data": {
            "text/plain": [
              "<matplotlib.axes._subplots.AxesSubplot at 0x7fc371c4bbe0>"
            ]
          },
          "metadata": {
            "tags": []
          },
          "execution_count": 84
        },
        {
          "output_type": "display_data",
          "data": {
            "image/png": "[encoded data removed]",
            "text/plain": [
              "<Figure size 432x288 with 1 Axes>"
            ]
          },
          "metadata": {
            "tags": [],
            "needs_background": "light"
          }
        }
      ]
    },
    {
      "cell_type": "code",
      "metadata": {
        "id": "f61bUzSrgvpZ",
        "colab_type": "code",
        "colab": {
          "base_uri": "https://localhost:8080/",
          "height": 310
        },
        "outputId": "a356edab-feb0-438a-8b49-77a9c9dad042"
      },
      "source": [
        "sr.rolling(window=14).apply(lambda x: np.std(x)).plot()"
      ],
      "execution_count": 87,
      "outputs": [
        {
          "output_type": "execute_result",
          "data": {
            "text/plain": [
              "<matplotlib.axes._subplots.AxesSubplot at 0x7fc371b56048>"
            ]
          },
          "metadata": {
            "tags": []
          },
          "execution_count": 87
        },
        {
          "output_type": "display_data",
          "data": {
            "image/png": "[encoded data removed]",
            "text/plain": [
              "<Figure size 432x288 with 1 Axes>"
            ]
          },
          "metadata": {
            "tags": [],
            "needs_background": "light"
          }
        }
      ]
    },
    {
      "cell_type": "markdown",
      "metadata": {
        "id": "J1tSezl6jjuO",
        "colab_type": "text"
      },
      "source": [
        "## Visualization\n",
        "---"
      ]
    },
    {
      "cell_type": "code",
      "metadata": {
        "id": "1cLUIR4Kix6R",
        "colab_type": "code",
        "colab": {
          "base_uri": "https://localhost:8080/",
          "height": 93
        },
        "outputId": "afccd3f8-7754-4bd3-8b00-08e47d2fc1eb"
      },
      "source": [
        "df.groupby('Country/Region')['Deaths'].max().sort_values(ascending=False).head(15).index"
      ],
      "execution_count": 97,
      "outputs": [
        {
          "output_type": "execute_result",
          "data": {
            "text/plain": [
              "Index(['UK', 'Italy', 'US', 'France', 'Spain', 'Brazil', 'Belgium', 'Germany',\n",
              "       'Iran', 'Netherlands', 'Mexico', 'Mainland China', 'Turkey', 'India',\n",
              "       'Canada'],\n",
              "      dtype='object', name='Country/Region')"
            ]
          },
          "metadata": {
            "tags": []
          },
          "execution_count": 97
        }
      ]
    },
    {
      "cell_type": "code",
      "metadata": {
        "id": "Zwdg5tcej_zu",
        "colab_type": "code",
        "colab": {}
      },
      "source": [
        "df_time = df.groupby(['Country/Region', pd.Grouper(key='ObservationDate', freq='1D')]).sum()"
      ],
      "execution_count": 0,
      "outputs": []
    },
    {
      "cell_type": "code",
      "metadata": {
        "id": "WnF0nkh5oKfp",
        "colab_type": "code",
        "colab": {}
      },
      "source": [
        "df_mx =  df_time.loc['Mexico']"
      ],
      "execution_count": 0,
      "outputs": []
    },
    {
      "cell_type": "code",
      "metadata": {
        "id": "YODdyspIpcEw",
        "colab_type": "code",
        "colab": {
          "base_uri": "https://localhost:8080/",
          "height": 142
        },
        "outputId": "b93a81d2-d019-4ab8-d845-f9e1e1e7a62d"
      },
      "source": [
        "df_mx.sample(2)"
      ],
      "execution_count": 118,
      "outputs": [
        {
          "output_type": "execute_result",
          "data": {
            "text/html": [
              "<div>\n",
              "<style scoped>\n",
              "    .dataframe tbody tr th:only-of-type {\n",
              "        vertical-align: middle;\n",
              "    }\n",
              "\n",
              "    .dataframe tbody tr th {\n",
              "        vertical-align: top;\n",
              "    }\n",
              "\n",
              "    .dataframe thead th {\n",
              "        text-align: right;\n",
              "    }\n",
              "</style>\n",
              "<table border=\"1\" class=\"dataframe\">\n",
              "  <thead>\n",
              "    <tr style=\"text-align: right;\">\n",
              "      <th></th>\n",
              "      <th>Confirmed</th>\n",
              "      <th>Deaths</th>\n",
              "      <th>Recovered</th>\n",
              "    </tr>\n",
              "    <tr>\n",
              "      <th>ObservationDate</th>\n",
              "      <th></th>\n",
              "      <th></th>\n",
              "      <th></th>\n",
              "    </tr>\n",
              "  </thead>\n",
              "  <tbody>\n",
              "    <tr>\n",
              "      <th>2020-02-28</th>\n",
              "      <td>1.0</td>\n",
              "      <td>0.0</td>\n",
              "      <td>0.0</td>\n",
              "    </tr>\n",
              "    <tr>\n",
              "      <th>2020-03-20</th>\n",
              "      <td>164.0</td>\n",
              "      <td>1.0</td>\n",
              "      <td>4.0</td>\n",
              "    </tr>\n",
              "  </tbody>\n",
              "</table>\n",
              "</div>"
            ],
            "text/plain": [
              "                 Confirmed  Deaths  Recovered\n",
              "ObservationDate                              \n",
              "2020-02-28             1.0     0.0        0.0\n",
              "2020-03-20           164.0     1.0        4.0"
            ]
          },
          "metadata": {
            "tags": []
          },
          "execution_count": 118
        }
      ]
    },
    {
      "cell_type": "markdown",
      "metadata": {
        "id": "Vme-sbL0u2um",
        "colab_type": "text"
      },
      "source": [
        "### Line"
      ]
    },
    {
      "cell_type": "code",
      "metadata": {
        "id": "Se-xTpAqpdDO",
        "colab_type": "code",
        "colab": {
          "base_uri": "https://localhost:8080/",
          "height": 448
        },
        "outputId": "b8001a2b-1e98-4823-8c60-f3fdfaca0452"
      },
      "source": [
        "df_mx.plot(figsize=(10, 7), title='COVID-19', style=['r-', 'g--', 'b-*'])\n",
        "plt.xlabel('Date')\n",
        "plt.ylabel('People')\n",
        "plt.show()"
      ],
      "execution_count": 125,
      "outputs": [
        {
          "output_type": "display_data",
          "data": {
            "image/png": "[encoded data removed]",
            "text/plain": [
              "<Figure size 720x504 with 1 Axes>"
            ]
          },
          "metadata": {
            "tags": [],
            "needs_background": "light"
          }
        }
      ]
    },
    {
      "cell_type": "code",
      "metadata": {
        "id": "ZYSOTJ_kqJZ9",
        "colab_type": "code",
        "colab": {}
      },
      "source": [
        "df_monthly = df_mx.resample('M').max()"
      ],
      "execution_count": 0,
      "outputs": []
    },
    {
      "cell_type": "markdown",
      "metadata": {
        "id": "veqY09d0u55b",
        "colab_type": "text"
      },
      "source": [
        "### Bar"
      ]
    },
    {
      "cell_type": "code",
      "metadata": {
        "id": "jtwKRks4rtW5",
        "colab_type": "code",
        "colab": {
          "base_uri": "https://localhost:8080/",
          "height": 556
        },
        "outputId": "93c8178c-b12a-4f8a-9d9a-46b31aca0428"
      },
      "source": [
        "df_monthly.plot(figsize=(10, 7), kind='bar', stacked=True)"
      ],
      "execution_count": 132,
      "outputs": [
        {
          "output_type": "execute_result",
          "data": {
            "text/plain": [
              "<matplotlib.axes._subplots.AxesSubplot at 0x7fc370d47550>"
            ]
          },
          "metadata": {
            "tags": []
          },
          "execution_count": 132
        },
        {
          "output_type": "display_data",
          "data": {
            "image/png": "[encoded data removed]",
            "text/plain": [
              "<Figure size 720x504 with 1 Axes>"
            ]
          },
          "metadata": {
            "tags": [],
            "needs_background": "light"
          }
        }
      ]
    },
    {
      "cell_type": "code",
      "metadata": {
        "id": "f5RqNP64r46x",
        "colab_type": "code",
        "colab": {
          "base_uri": "https://localhost:8080/",
          "height": 235
        },
        "outputId": "52da689f-da74-4e06-d3cf-5b9eb5b652e3"
      },
      "source": [
        "df_monthly['Traitment'] = df_monthly['Confirmed'] - df_monthly['Deaths'] - df_monthly['Recovered']\n",
        "df_monthly"
      ],
      "execution_count": 133,
      "outputs": [
        {
          "output_type": "execute_result",
          "data": {
            "text/html": [
              "<div>\n",
              "<style scoped>\n",
              "    .dataframe tbody tr th:only-of-type {\n",
              "        vertical-align: middle;\n",
              "    }\n",
              "\n",
              "    .dataframe tbody tr th {\n",
              "        vertical-align: top;\n",
              "    }\n",
              "\n",
              "    .dataframe thead th {\n",
              "        text-align: right;\n",
              "    }\n",
              "</style>\n",
              "<table border=\"1\" class=\"dataframe\">\n",
              "  <thead>\n",
              "    <tr style=\"text-align: right;\">\n",
              "      <th></th>\n",
              "      <th>Confirmed</th>\n",
              "      <th>Deaths</th>\n",
              "      <th>Recovered</th>\n",
              "      <th>Traitment</th>\n",
              "    </tr>\n",
              "    <tr>\n",
              "      <th>ObservationDate</th>\n",
              "      <th></th>\n",
              "      <th></th>\n",
              "      <th></th>\n",
              "      <th></th>\n",
              "    </tr>\n",
              "  </thead>\n",
              "  <tbody>\n",
              "    <tr>\n",
              "      <th>2020-01-31</th>\n",
              "      <td>0.0</td>\n",
              "      <td>0.0</td>\n",
              "      <td>0.0</td>\n",
              "      <td>0.0</td>\n",
              "    </tr>\n",
              "    <tr>\n",
              "      <th>2020-02-29</th>\n",
              "      <td>4.0</td>\n",
              "      <td>0.0</td>\n",
              "      <td>0.0</td>\n",
              "      <td>4.0</td>\n",
              "    </tr>\n",
              "    <tr>\n",
              "      <th>2020-03-31</th>\n",
              "      <td>1094.0</td>\n",
              "      <td>28.0</td>\n",
              "      <td>35.0</td>\n",
              "      <td>1031.0</td>\n",
              "    </tr>\n",
              "    <tr>\n",
              "      <th>2020-04-30</th>\n",
              "      <td>19224.0</td>\n",
              "      <td>1859.0</td>\n",
              "      <td>11423.0</td>\n",
              "      <td>5942.0</td>\n",
              "    </tr>\n",
              "    <tr>\n",
              "      <th>2020-05-31</th>\n",
              "      <td>71105.0</td>\n",
              "      <td>7633.0</td>\n",
              "      <td>49452.0</td>\n",
              "      <td>14020.0</td>\n",
              "    </tr>\n",
              "  </tbody>\n",
              "</table>\n",
              "</div>"
            ],
            "text/plain": [
              "                 Confirmed  Deaths  Recovered  Traitment\n",
              "ObservationDate                                         \n",
              "2020-01-31             0.0     0.0        0.0        0.0\n",
              "2020-02-29             4.0     0.0        0.0        4.0\n",
              "2020-03-31          1094.0    28.0       35.0     1031.0\n",
              "2020-04-30         19224.0  1859.0    11423.0     5942.0\n",
              "2020-05-31         71105.0  7633.0    49452.0    14020.0"
            ]
          },
          "metadata": {
            "tags": []
          },
          "execution_count": 133
        }
      ]
    },
    {
      "cell_type": "markdown",
      "metadata": {
        "id": "P92_bX6hu7_6",
        "colab_type": "text"
      },
      "source": [
        "### Pie"
      ]
    },
    {
      "cell_type": "code",
      "metadata": {
        "id": "10WQMb7zs6kv",
        "colab_type": "code",
        "colab": {
          "base_uri": "https://localhost:8080/",
          "height": 213
        },
        "outputId": "404184ae-de10-45e9-8c1d-fe574cf79d24"
      },
      "source": [
        "df_monthly[['Traitment', 'Deaths', 'Recovered']].T.plot(figsize=(15, 9), kind='pie', subplots=True)\n",
        "plt.plot()"
      ],
      "execution_count": 141,
      "outputs": [
        {
          "output_type": "stream",
          "text": [
            "No handles with labels found to put in legend.\n"
          ],
          "name": "stderr"
        },
        {
          "output_type": "execute_result",
          "data": {
            "text/plain": [
              "[]"
            ]
          },
          "metadata": {
            "tags": []
          },
          "execution_count": 141
        },
        {
          "output_type": "display_data",
          "data": {
            "image/png": "[encoded data removed]",
            "text/plain": [
              "<Figure size 1080x648 with 5 Axes>"
            ]
          },
          "metadata": {
            "tags": []
          }
        }
      ]
    },
    {
      "cell_type": "markdown",
      "metadata": {
        "id": "4kIWBIzMu9eL",
        "colab_type": "text"
      },
      "source": [
        "### Histogram"
      ]
    },
    {
      "cell_type": "code",
      "metadata": {
        "id": "uO0utLMMtFn9",
        "colab_type": "code",
        "colab": {
          "base_uri": "https://localhost:8080/",
          "height": 447
        },
        "outputId": "49312bba-22a8-4f4e-da42-57140b55fc01"
      },
      "source": [
        "df_mx['rate'] = 1 - df_mx['Deaths']/df_mx['Confirmed']\n",
        "df_mx['rate'].hist(figsize=(10, 7), bins=10)"
      ],
      "execution_count": 143,
      "outputs": [
        {
          "output_type": "execute_result",
          "data": {
            "text/plain": [
              "<matplotlib.axes._subplots.AxesSubplot at 0x7fc3709107f0>"
            ]
          },
          "metadata": {
            "tags": []
          },
          "execution_count": 143
        },
        {
          "output_type": "display_data",
          "data": {
            "image/png": "[encoded data removed]",
            "text/plain": [
              "<Figure size 720x504 with 1 Axes>"
            ]
          },
          "metadata": {
            "tags": [],
            "needs_background": "light"
          }
        }
      ]
    },
    {
      "cell_type": "markdown",
      "metadata": {
        "id": "K9YPRsqXu_Q3",
        "colab_type": "text"
      },
      "source": [
        "### KDE"
      ]
    },
    {
      "cell_type": "code",
      "metadata": {
        "id": "RdVQbS_UuCK8",
        "colab_type": "code",
        "colab": {
          "base_uri": "https://localhost:8080/",
          "height": 447
        },
        "outputId": "8af42c0d-e47c-4206-b63a-e38960cac545"
      },
      "source": [
        "df_mx['rate'].plot(kind='kde', figsize=(10, 7))"
      ],
      "execution_count": 145,
      "outputs": [
        {
          "output_type": "execute_result",
          "data": {
            "text/plain": [
              "<matplotlib.axes._subplots.AxesSubplot at 0x7fc370867b00>"
            ]
          },
          "metadata": {
            "tags": []
          },
          "execution_count": 145
        },
        {
          "output_type": "display_data",
          "data": {
            "image/png": "[encoded data removed]",
            "text/plain": [
              "<Figure size 720x504 with 1 Axes>"
            ]
          },
          "metadata": {
            "tags": [],
            "needs_background": "light"
          }
        }
      ]
    },
    {
      "cell_type": "code",
      "metadata": {
        "id": "3Kj4UC2_uewZ",
        "colab_type": "code",
        "colab": {}
      },
      "source": [
        ""
      ],
      "execution_count": 0,
      "outputs": []
    }
  ]
}