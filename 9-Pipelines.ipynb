{
  "nbformat": 4,
  "nbformat_minor": 0,
  "metadata": {
    "colab": {
      "name": "9.-RutinaTipica.ipynb",
      "provenance": [],
      "collapsed_sections": [],
      "authorship_tag": "ABX9TyMypJwmmNgRl0QrYlOBfVGd"
    },
    "kernelspec": {
      "name": "python3",
      "display_name": "Python 3"
    }
  },
  "cells": [
    {
      "cell_type": "code",
      "metadata": {
        "id": "f4Hh21ivnlhJ",
        "colab_type": "code",
        "colab": {}
      },
      "source": [
        "import pandas as pd\n",
        "import numpy as np\n",
        "import matplotlib.pyplot as plt"
      ],
      "execution_count": 0,
      "outputs": []
    },
    {
      "cell_type": "code",
      "metadata": {
        "id": "gQ9vgGfHo1HH",
        "colab_type": "code",
        "colab": {}
      },
      "source": [
        "df = pd.read_csv('GlobalLandTemperaturesByCountry.csv')"
      ],
      "execution_count": 0,
      "outputs": []
    },
    {
      "cell_type": "code",
      "metadata": {
        "id": "WvUVi604pBEZ",
        "colab_type": "code",
        "colab": {
          "base_uri": "https://localhost:8080/",
          "height": 226
        },
        "outputId": "103040da-59e4-4354-bbaa-f1e791c10081"
      },
      "source": [
        "df.info()"
      ],
      "execution_count": 4,
      "outputs": [
        {
          "output_type": "stream",
          "text": [
            "<class 'pandas.core.frame.DataFrame'>\n",
            "RangeIndex: 577462 entries, 0 to 577461\n",
            "Data columns (total 4 columns):\n",
            " #   Column                         Non-Null Count   Dtype  \n",
            "---  ------                         --------------   -----  \n",
            " 0   dt                             577462 non-null  object \n",
            " 1   AverageTemperature             544811 non-null  float64\n",
            " 2   AverageTemperatureUncertainty  545550 non-null  float64\n",
            " 3   Country                        577462 non-null  object \n",
            "dtypes: float64(2), object(2)\n",
            "memory usage: 17.6+ MB\n"
          ],
          "name": "stdout"
        }
      ]
    },
    {
      "cell_type": "code",
      "metadata": {
        "id": "fPCs3GIwqDq_",
        "colab_type": "code",
        "colab": {
          "base_uri": "https://localhost:8080/",
          "height": 245
        },
        "outputId": "0812aa7b-6326-4819-8fc9-a9676ef93c3d"
      },
      "source": [
        "df['year'] = pd.to_datetime(df['dt'])\n",
        "df['year']"
      ],
      "execution_count": 5,
      "outputs": [
        {
          "output_type": "execute_result",
          "data": {
            "text/plain": [
              "0        1743-11-01\n",
              "1        1743-12-01\n",
              "2        1744-01-01\n",
              "3        1744-02-01\n",
              "4        1744-03-01\n",
              "            ...    \n",
              "577457   2013-05-01\n",
              "577458   2013-06-01\n",
              "577459   2013-07-01\n",
              "577460   2013-08-01\n",
              "577461   2013-09-01\n",
              "Name: year, Length: 577462, dtype: datetime64[ns]"
            ]
          },
          "metadata": {
            "tags": []
          },
          "execution_count": 5
        }
      ]
    },
    {
      "cell_type": "code",
      "metadata": {
        "id": "vJK0g5X4qj7N",
        "colab_type": "code",
        "colab": {
          "base_uri": "https://localhost:8080/",
          "height": 142
        },
        "outputId": "98007ec0-5e3e-4426-ae36-5fc89da9620c"
      },
      "source": [
        "idx = df['year'] > pd.to_datetime('1970-01-01')\n",
        "df = df[idx]\n",
        "df.sample(3)"
      ],
      "execution_count": 6,
      "outputs": [
        {
          "output_type": "execute_result",
          "data": {
            "text/html": [
              "<div>\n",
              "<style scoped>\n",
              "    .dataframe tbody tr th:only-of-type {\n",
              "        vertical-align: middle;\n",
              "    }\n",
              "\n",
              "    .dataframe tbody tr th {\n",
              "        vertical-align: top;\n",
              "    }\n",
              "\n",
              "    .dataframe thead th {\n",
              "        text-align: right;\n",
              "    }\n",
              "</style>\n",
              "<table border=\"1\" class=\"dataframe\">\n",
              "  <thead>\n",
              "    <tr style=\"text-align: right;\">\n",
              "      <th></th>\n",
              "      <th>dt</th>\n",
              "      <th>AverageTemperature</th>\n",
              "      <th>AverageTemperatureUncertainty</th>\n",
              "      <th>Country</th>\n",
              "      <th>year</th>\n",
              "    </tr>\n",
              "  </thead>\n",
              "  <tbody>\n",
              "    <tr>\n",
              "      <th>346567</th>\n",
              "      <td>1972-08-01</td>\n",
              "      <td>16.996</td>\n",
              "      <td>0.359</td>\n",
              "      <td>Monaco</td>\n",
              "      <td>1972-08-01</td>\n",
              "    </tr>\n",
              "    <tr>\n",
              "      <th>234679</th>\n",
              "      <td>1976-01-01</td>\n",
              "      <td>22.044</td>\n",
              "      <td>0.313</td>\n",
              "      <td>Honduras</td>\n",
              "      <td>1976-01-01</td>\n",
              "    </tr>\n",
              "    <tr>\n",
              "      <th>441001</th>\n",
              "      <td>1972-11-01</td>\n",
              "      <td>27.240</td>\n",
              "      <td>0.191</td>\n",
              "      <td>Saint Lucia</td>\n",
              "      <td>1972-11-01</td>\n",
              "    </tr>\n",
              "  </tbody>\n",
              "</table>\n",
              "</div>"
            ],
            "text/plain": [
              "                dt  AverageTemperature  ...      Country       year\n",
              "346567  1972-08-01              16.996  ...       Monaco 1972-08-01\n",
              "234679  1976-01-01              22.044  ...     Honduras 1976-01-01\n",
              "441001  1972-11-01              27.240  ...  Saint Lucia 1972-11-01\n",
              "\n",
              "[3 rows x 5 columns]"
            ]
          },
          "metadata": {
            "tags": []
          },
          "execution_count": 6
        }
      ]
    },
    {
      "cell_type": "code",
      "metadata": {
        "id": "p_ZKc5iLq9tM",
        "colab_type": "code",
        "colab": {}
      },
      "source": [
        "df_t_avg = df.groupby(['Country', pd.Grouper(key='year', freq='1Y')]).agg({\n",
        "    'AverageTemperature':[np.mean, np.median]\n",
        "})"
      ],
      "execution_count": 0,
      "outputs": []
    },
    {
      "cell_type": "code",
      "metadata": {
        "id": "EnOeYvLwrcL1",
        "colab_type": "code",
        "colab": {
          "base_uri": "https://localhost:8080/",
          "height": 298
        },
        "outputId": "f82a5ca7-d1b7-4091-d53f-eda040d16fd2"
      },
      "source": [
        "df_t_avg.xs('Mexico', level='Country')['AverageTemperature'].plot()"
      ],
      "execution_count": 13,
      "outputs": [
        {
          "output_type": "execute_result",
          "data": {
            "text/plain": [
              "<matplotlib.axes._subplots.AxesSubplot at 0x7f9441623320>"
            ]
          },
          "metadata": {
            "tags": []
          },
          "execution_count": 13
        },
        {
          "output_type": "display_data",
          "data": {
            "image/png": "[encoded data removed]",
            "text/plain": [
              "<Figure size 432x288 with 1 Axes>"
            ]
          },
          "metadata": {
            "tags": [],
            "needs_background": "light"
          }
        }
      ]
    },
    {
      "cell_type": "code",
      "metadata": {
        "id": "Df3muaXqro1o",
        "colab_type": "code",
        "colab": {}
      },
      "source": [
        "df_t_med = df_t_avg['AverageTemperature'][['median']].reset_index()"
      ],
      "execution_count": 0,
      "outputs": []
    },
    {
      "cell_type": "code",
      "metadata": {
        "id": "tw23RjwtsXnE",
        "colab_type": "code",
        "colab": {}
      },
      "source": [
        "df_t_med['date'] = df_t_med['year'].dt.year"
      ],
      "execution_count": 0,
      "outputs": []
    },
    {
      "cell_type": "code",
      "metadata": {
        "id": "1Bmy-PhGsxeA",
        "colab_type": "code",
        "colab": {}
      },
      "source": [
        "df_t_med.rename(columns={'median': 'temperature'}, inplace=True)"
      ],
      "execution_count": 0,
      "outputs": []
    },
    {
      "cell_type": "code",
      "metadata": {
        "id": "hD-BwYZ2s_Ht",
        "colab_type": "code",
        "colab": {
          "base_uri": "https://localhost:8080/",
          "height": 245
        },
        "outputId": "6e4f3814-ded8-4325-9088-4c5f2f42fb95"
      },
      "source": [
        "df_t_pivot = df_t_med.pivot_table(values='temperature', index='date', columns='Country')\n",
        "df_t_pivot.sample(1)"
      ],
      "execution_count": 24,
      "outputs": [
        {
          "output_type": "execute_result",
          "data": {
            "text/html": [
              "<div>\n",
              "<style scoped>\n",
              "    .dataframe tbody tr th:only-of-type {\n",
              "        vertical-align: middle;\n",
              "    }\n",
              "\n",
              "    .dataframe tbody tr th {\n",
              "        vertical-align: top;\n",
              "    }\n",
              "\n",
              "    .dataframe thead th {\n",
              "        text-align: right;\n",
              "    }\n",
              "</style>\n",
              "<table border=\"1\" class=\"dataframe\">\n",
              "  <thead>\n",
              "    <tr style=\"text-align: right;\">\n",
              "      <th>Country</th>\n",
              "      <th>Afghanistan</th>\n",
              "      <th>Africa</th>\n",
              "      <th>Albania</th>\n",
              "      <th>Algeria</th>\n",
              "      <th>American Samoa</th>\n",
              "      <th>Andorra</th>\n",
              "      <th>Angola</th>\n",
              "      <th>Anguilla</th>\n",
              "      <th>Antigua And Barbuda</th>\n",
              "      <th>Argentina</th>\n",
              "      <th>Armenia</th>\n",
              "      <th>Aruba</th>\n",
              "      <th>Asia</th>\n",
              "      <th>Australia</th>\n",
              "      <th>Austria</th>\n",
              "      <th>Azerbaijan</th>\n",
              "      <th>Bahamas</th>\n",
              "      <th>Bahrain</th>\n",
              "      <th>Baker Island</th>\n",
              "      <th>Bangladesh</th>\n",
              "      <th>Barbados</th>\n",
              "      <th>Belarus</th>\n",
              "      <th>Belgium</th>\n",
              "      <th>Belize</th>\n",
              "      <th>Benin</th>\n",
              "      <th>Bhutan</th>\n",
              "      <th>Bolivia</th>\n",
              "      <th>Bonaire, Saint Eustatius And Saba</th>\n",
              "      <th>Bosnia And Herzegovina</th>\n",
              "      <th>Botswana</th>\n",
              "      <th>Brazil</th>\n",
              "      <th>British Virgin Islands</th>\n",
              "      <th>Bulgaria</th>\n",
              "      <th>Burkina Faso</th>\n",
              "      <th>Burma</th>\n",
              "      <th>Burundi</th>\n",
              "      <th>Cambodia</th>\n",
              "      <th>Cameroon</th>\n",
              "      <th>Canada</th>\n",
              "      <th>Cape Verde</th>\n",
              "      <th>...</th>\n",
              "      <th>South America</th>\n",
              "      <th>South Georgia And The South Sandwich Isla</th>\n",
              "      <th>South Korea</th>\n",
              "      <th>Spain</th>\n",
              "      <th>Sri Lanka</th>\n",
              "      <th>Sudan</th>\n",
              "      <th>Suriname</th>\n",
              "      <th>Svalbard And Jan Mayen</th>\n",
              "      <th>Swaziland</th>\n",
              "      <th>Sweden</th>\n",
              "      <th>Switzerland</th>\n",
              "      <th>Syria</th>\n",
              "      <th>Taiwan</th>\n",
              "      <th>Tajikistan</th>\n",
              "      <th>Tanzania</th>\n",
              "      <th>Thailand</th>\n",
              "      <th>Timor Leste</th>\n",
              "      <th>Togo</th>\n",
              "      <th>Tonga</th>\n",
              "      <th>Trinidad And Tobago</th>\n",
              "      <th>Tunisia</th>\n",
              "      <th>Turkey</th>\n",
              "      <th>Turkmenistan</th>\n",
              "      <th>Turks And Caicas Islands</th>\n",
              "      <th>Uganda</th>\n",
              "      <th>Ukraine</th>\n",
              "      <th>United Arab Emirates</th>\n",
              "      <th>United Kingdom</th>\n",
              "      <th>United Kingdom (Europe)</th>\n",
              "      <th>United States</th>\n",
              "      <th>Uruguay</th>\n",
              "      <th>Uzbekistan</th>\n",
              "      <th>Venezuela</th>\n",
              "      <th>Vietnam</th>\n",
              "      <th>Virgin Islands</th>\n",
              "      <th>Western Sahara</th>\n",
              "      <th>Yemen</th>\n",
              "      <th>Zambia</th>\n",
              "      <th>Zimbabwe</th>\n",
              "      <th>Åland</th>\n",
              "    </tr>\n",
              "    <tr>\n",
              "      <th>date</th>\n",
              "      <th></th>\n",
              "      <th></th>\n",
              "      <th></th>\n",
              "      <th></th>\n",
              "      <th></th>\n",
              "      <th></th>\n",
              "      <th></th>\n",
              "      <th></th>\n",
              "      <th></th>\n",
              "      <th></th>\n",
              "      <th></th>\n",
              "      <th></th>\n",
              "      <th></th>\n",
              "      <th></th>\n",
              "      <th></th>\n",
              "      <th></th>\n",
              "      <th></th>\n",
              "      <th></th>\n",
              "      <th></th>\n",
              "      <th></th>\n",
              "      <th></th>\n",
              "      <th></th>\n",
              "      <th></th>\n",
              "      <th></th>\n",
              "      <th></th>\n",
              "      <th></th>\n",
              "      <th></th>\n",
              "      <th></th>\n",
              "      <th></th>\n",
              "      <th></th>\n",
              "      <th></th>\n",
              "      <th></th>\n",
              "      <th></th>\n",
              "      <th></th>\n",
              "      <th></th>\n",
              "      <th></th>\n",
              "      <th></th>\n",
              "      <th></th>\n",
              "      <th></th>\n",
              "      <th></th>\n",
              "      <th></th>\n",
              "      <th></th>\n",
              "      <th></th>\n",
              "      <th></th>\n",
              "      <th></th>\n",
              "      <th></th>\n",
              "      <th></th>\n",
              "      <th></th>\n",
              "      <th></th>\n",
              "      <th></th>\n",
              "      <th></th>\n",
              "      <th></th>\n",
              "      <th></th>\n",
              "      <th></th>\n",
              "      <th></th>\n",
              "      <th></th>\n",
              "      <th></th>\n",
              "      <th></th>\n",
              "      <th></th>\n",
              "      <th></th>\n",
              "      <th></th>\n",
              "      <th></th>\n",
              "      <th></th>\n",
              "      <th></th>\n",
              "      <th></th>\n",
              "      <th></th>\n",
              "      <th></th>\n",
              "      <th></th>\n",
              "      <th></th>\n",
              "      <th></th>\n",
              "      <th></th>\n",
              "      <th></th>\n",
              "      <th></th>\n",
              "      <th></th>\n",
              "      <th></th>\n",
              "      <th></th>\n",
              "      <th></th>\n",
              "      <th></th>\n",
              "      <th></th>\n",
              "      <th></th>\n",
              "      <th></th>\n",
              "    </tr>\n",
              "  </thead>\n",
              "  <tbody>\n",
              "    <tr>\n",
              "      <th>1975</th>\n",
              "      <td>13.513</td>\n",
              "      <td>24.8045</td>\n",
              "      <td>12.3595</td>\n",
              "      <td>23.074</td>\n",
              "      <td>26.651</td>\n",
              "      <td>10.4105</td>\n",
              "      <td>22.421</td>\n",
              "      <td>26.478</td>\n",
              "      <td>26.334</td>\n",
              "      <td>15.1515</td>\n",
              "      <td>10.216</td>\n",
              "      <td>28.114</td>\n",
              "      <td>8.86</td>\n",
              "      <td>21.42</td>\n",
              "      <td>5.8655</td>\n",
              "      <td>12.2135</td>\n",
              "      <td>25.9255</td>\n",
              "      <td>25.563</td>\n",
              "      <td>25.686</td>\n",
              "      <td>27.3305</td>\n",
              "      <td>26.456</td>\n",
              "      <td>6.9855</td>\n",
              "      <td>8.4725</td>\n",
              "      <td>25.863</td>\n",
              "      <td>26.7795</td>\n",
              "      <td>14.1455</td>\n",
              "      <td>21.852</td>\n",
              "      <td>27.4675</td>\n",
              "      <td>10.3755</td>\n",
              "      <td>23.1615</td>\n",
              "      <td>25.177</td>\n",
              "      <td>26.2985</td>\n",
              "      <td>11.1605</td>\n",
              "      <td>26.9675</td>\n",
              "      <td>25.438</td>\n",
              "      <td>19.8435</td>\n",
              "      <td>27.07</td>\n",
              "      <td>24.0085</td>\n",
              "      <td>-4.317</td>\n",
              "      <td>23.781</td>\n",
              "      <td>...</td>\n",
              "      <td>22.126</td>\n",
              "      <td>1.8425</td>\n",
              "      <td>13.6235</td>\n",
              "      <td>12.357</td>\n",
              "      <td>27.245</td>\n",
              "      <td>27.7055</td>\n",
              "      <td>25.904</td>\n",
              "      <td>-10.178</td>\n",
              "      <td>19.0535</td>\n",
              "      <td>2.369</td>\n",
              "      <td>6.403</td>\n",
              "      <td>19.0685</td>\n",
              "      <td>23.4175</td>\n",
              "      <td>5.1</td>\n",
              "      <td>22.5975</td>\n",
              "      <td>26.8635</td>\n",
              "      <td>26.44</td>\n",
              "      <td>26.3395</td>\n",
              "      <td>23.9175</td>\n",
              "      <td>26.1995</td>\n",
              "      <td>19.129</td>\n",
              "      <td>12.686</td>\n",
              "      <td>15.296</td>\n",
              "      <td>26.823</td>\n",
              "      <td>22.9845</td>\n",
              "      <td>9.43</td>\n",
              "      <td>27.699</td>\n",
              "      <td>8.1145</td>\n",
              "      <td>8.2045</td>\n",
              "      <td>7.906</td>\n",
              "      <td>17.181</td>\n",
              "      <td>13.3395</td>\n",
              "      <td>24.979</td>\n",
              "      <td>24.99</td>\n",
              "      <td>26.2985</td>\n",
              "      <td>20.5175</td>\n",
              "      <td>26.1155</td>\n",
              "      <td>21.8635</td>\n",
              "      <td>21.791</td>\n",
              "      <td>6.017</td>\n",
              "    </tr>\n",
              "  </tbody>\n",
              "</table>\n",
              "<p>1 rows × 242 columns</p>\n",
              "</div>"
            ],
            "text/plain": [
              "Country  Afghanistan   Africa  Albania  ...   Zambia  Zimbabwe  Åland\n",
              "date                                    ...                          \n",
              "1975          13.513  24.8045  12.3595  ...  21.8635    21.791  6.017\n",
              "\n",
              "[1 rows x 242 columns]"
            ]
          },
          "metadata": {
            "tags": []
          },
          "execution_count": 24
        }
      ]
    },
    {
      "cell_type": "code",
      "metadata": {
        "id": "_upNciXbtA0g",
        "colab_type": "code",
        "colab": {
          "base_uri": "https://localhost:8080/",
          "height": 329
        },
        "outputId": "94379c7f-1786-4818-9ccf-4d81ca9625ff"
      },
      "source": [
        "df_t_pivot.T.sample(10).T.boxplot(rot=45)"
      ],
      "execution_count": 31,
      "outputs": [
        {
          "output_type": "execute_result",
          "data": {
            "text/plain": [
              "<matplotlib.axes._subplots.AxesSubplot at 0x7f943eb5ba58>"
            ]
          },
          "metadata": {
            "tags": []
          },
          "execution_count": 31
        },
        {
          "output_type": "display_data",
          "data": {
            "image/png": "[encoded data removed]",
            "text/plain": [
              "<Figure size 432x288 with 1 Axes>"
            ]
          },
          "metadata": {
            "tags": [],
            "needs_background": "light"
          }
        }
      ]
    },
    {
      "cell_type": "code",
      "metadata": {
        "id": "usi_Y8VVtbja",
        "colab_type": "code",
        "colab": {}
      },
      "source": [
        ""
      ],
      "execution_count": 0,
      "outputs": []
    }
  ]
}