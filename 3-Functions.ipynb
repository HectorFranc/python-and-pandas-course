{
  "nbformat": 4,
  "nbformat_minor": 0,
  "metadata": {
    "colab": {
      "name": "3.-FuncionesMatematicas.ipynb",
      "provenance": [],
      "authorship_tag": "ABX9TyPWkWJinEiMdoxnlOhLNzMV"
    },
    "kernelspec": {
      "name": "python3",
      "display_name": "Python 3"
    }
  },
  "cells": [
    {
      "cell_type": "code",
      "metadata": {
        "id": "L5QKLLe2WiT0",
        "colab_type": "code",
        "colab": {}
      },
      "source": [
        "import pandas as pd\n",
        "import numpy as np"
      ],
      "execution_count": 0,
      "outputs": []
    },
    {
      "cell_type": "code",
      "metadata": {
        "id": "YJ7yWR19cba5",
        "colab_type": "code",
        "colab": {}
      },
      "source": [
        "DATASET_URL = 'https://storage.googleapis.com/kagglesdsdata/datasets/376751/731448/london_merged.csv?GoogleAccessId=web-data@kaggle-161607.iam.gserviceaccount.com&Expires=1590260137&Signature=Jlbw60BdVqFKn87Bg0QXUnGhlqMMqkqZmF0SxlrEI0PzStLux5%2BbLspaTh9N4fvLdMtJTZcna5KSED1KPQcgQB2bbFZcATtcqowHXpmBym7wLLLDQvRO14N6x93qnUey%2BoiMbIldKsm8wswfbTAMESfoaNVIUpsMIm%2Bvz3Wt3hMOyTsKh6hjD672Vym5BApFfyx9iFdYcbazEv%2F7qw6xtjslgEdb%2BR%2BU%2FLalTmGuufjZ18XXEpzh7U5AnLJaXPezU9QahMacsi%2Brdq5KiAhbX%2FwH%2BtZbGqSw%2BsVhuS4tlGsEYQ8nPYmlt44IUH7o%2BxPO7t2ZKFbg0XyrPiexU2laSA%3D%3D&response-content-disposition=attachment%3B+filename%3Dlondon_merged.csv'\n",
        "df_lmerged = pd.read_csv(DATASET_URL)"
      ],
      "execution_count": 0,
      "outputs": []
    },
    {
      "cell_type": "markdown",
      "metadata": {
        "id": "J7D3VhIZfT3T",
        "colab_type": "text"
      },
      "source": [
        "## Dataset Cleaning\n",
        "---"
      ]
    },
    {
      "cell_type": "code",
      "metadata": {
        "id": "47-r9_GLdfKX",
        "colab_type": "code",
        "colab": {}
      },
      "source": [
        "df_lmerged['timestamp'] = pd.to_datetime(df_lmerged['timestamp'])"
      ],
      "execution_count": 0,
      "outputs": []
    },
    {
      "cell_type": "code",
      "metadata": {
        "id": "NTn_eRCAeWXn",
        "colab_type": "code",
        "colab": {
          "base_uri": "https://localhost:8080/",
          "height": 245
        },
        "outputId": "301dcb7f-4480-4481-bf7a-1809a0145838"
      },
      "source": [
        "df_lmerged['hour'] = df_lmerged['timestamp'].dt.hour\n",
        "df_lmerged['hour']"
      ],
      "execution_count": 6,
      "outputs": [
        {
          "output_type": "execute_result",
          "data": {
            "text/plain": [
              "0         0\n",
              "1         1\n",
              "2         2\n",
              "3         3\n",
              "4         4\n",
              "         ..\n",
              "17409    19\n",
              "17410    20\n",
              "17411    21\n",
              "17412    22\n",
              "17413    23\n",
              "Name: hour, Length: 17414, dtype: int64"
            ]
          },
          "metadata": {
            "tags": []
          },
          "execution_count": 6
        }
      ]
    },
    {
      "cell_type": "code",
      "metadata": {
        "id": "mWi_tUJ5ewim",
        "colab_type": "code",
        "colab": {}
      },
      "source": [
        "df_lmerged.drop(['timestamp'], axis=1, inplace=True)"
      ],
      "execution_count": 0,
      "outputs": []
    },
    {
      "cell_type": "code",
      "metadata": {
        "id": "EC8EgAoMe-M2",
        "colab_type": "code",
        "colab": {
          "base_uri": "https://localhost:8080/",
          "height": 226
        },
        "outputId": "fd0566ab-ec7c-4597-f45c-11fe4d65af38"
      },
      "source": [
        ""
      ],
      "execution_count": 9,
      "outputs": [
        {
          "output_type": "execute_result",
          "data": {
            "text/plain": [
              "cnt               int64\n",
              "t1              float64\n",
              "t2              float64\n",
              "hum             float64\n",
              "wind_speed      float64\n",
              "weather_code    float64\n",
              "is_holiday      float64\n",
              "is_weekend      float64\n",
              "season          float64\n",
              "hour              int64\n",
              "dtype: object"
            ]
          },
          "metadata": {
            "tags": []
          },
          "execution_count": 9
        }
      ]
    },
    {
      "cell_type": "markdown",
      "metadata": {
        "id": "2nTqVEUZfZ0p",
        "colab_type": "text"
      },
      "source": [
        "## Math functions\n",
        "---"
      ]
    },
    {
      "cell_type": "code",
      "metadata": {
        "id": "EEt_F_lEfGkX",
        "colab_type": "code",
        "colab": {
          "base_uri": "https://localhost:8080/",
          "height": 245
        },
        "outputId": "c5273c35-2eff-4077-f355-205b10d0eb60"
      },
      "source": [
        "## Basic math functions\n",
        "(df_lmerged['wind_speed'] ** 2)*10-11+1"
      ],
      "execution_count": 12,
      "outputs": [
        {
          "output_type": "execute_result",
          "data": {
            "text/plain": [
              "0         350.0\n",
              "1         240.0\n",
              "2         -10.0\n",
              "3         -10.0\n",
              "4         412.5\n",
              "          ...  \n",
              "17409    3600.0\n",
              "17410    4400.0\n",
              "17411    5750.0\n",
              "17412    5280.0\n",
              "17413    4830.0\n",
              "Name: wind_speed, Length: 17414, dtype: float64"
            ]
          },
          "metadata": {
            "tags": []
          },
          "execution_count": 12
        }
      ]
    },
    {
      "cell_type": "code",
      "metadata": {
        "id": "wMNZJ7eyfizF",
        "colab_type": "code",
        "colab": {
          "base_uri": "https://localhost:8080/",
          "height": 245
        },
        "outputId": "16993bdd-89e2-4e06-b1f3-d83ad9b1e452"
      },
      "source": [
        "## numpy functions\n",
        "np.sin(df_lmerged['wind_speed'])"
      ],
      "execution_count": 13,
      "outputs": [
        {
          "output_type": "execute_result",
          "data": {
            "text/plain": [
              "0       -0.279415\n",
              "1       -0.958924\n",
              "2        0.000000\n",
              "3        0.000000\n",
              "4        0.215120\n",
              "           ...   \n",
              "17409    0.149877\n",
              "17410    0.836656\n",
              "17411   -0.905578\n",
              "17412   -0.846220\n",
              "17413   -0.008851\n",
              "Name: wind_speed, Length: 17414, dtype: float64"
            ]
          },
          "metadata": {
            "tags": []
          },
          "execution_count": 13
        }
      ]
    },
    {
      "cell_type": "code",
      "metadata": {
        "id": "GItxYmyAgM3K",
        "colab_type": "code",
        "colab": {
          "base_uri": "https://localhost:8080/",
          "height": 245
        },
        "outputId": "8e9da78c-ad27-4289-f1e4-333644d4d222"
      },
      "source": [
        "# Substraction. Fill_value fills Nan values because dataframes are not of same length\n",
        "df_lmerged['wind_speed'].iloc[::3].sub(df_lmerged['wind_speed'], fill_value=1000)"
      ],
      "execution_count": 16,
      "outputs": [
        {
          "output_type": "execute_result",
          "data": {
            "text/plain": [
              "0           0.0\n",
              "1         995.0\n",
              "2        1000.0\n",
              "3           0.0\n",
              "4         993.5\n",
              "          ...  \n",
              "17409       0.0\n",
              "17410     979.0\n",
              "17411     976.0\n",
              "17412       0.0\n",
              "17413     978.0\n",
              "Name: wind_speed, Length: 17414, dtype: float64"
            ]
          },
          "metadata": {
            "tags": []
          },
          "execution_count": 16
        }
      ]
    },
    {
      "cell_type": "markdown",
      "metadata": {
        "id": "Dzk1_X5_jp5t",
        "colab_type": "text"
      },
      "source": [
        "## Complex math functions and lambda functions\n",
        "---"
      ]
    },
    {
      "cell_type": "code",
      "metadata": {
        "id": "nXmfWhQAg2gc",
        "colab_type": "code",
        "colab": {
          "base_uri": "https://localhost:8080/",
          "height": 245
        },
        "outputId": "1d45efa8-665a-4f4b-a6c0-6408c140a448"
      },
      "source": [
        "# Apply to every value lambda function. It recieves the value and th eargs list\n",
        "df_lmerged['hour'].apply(lambda x, magic: x+magic, args=[24])"
      ],
      "execution_count": 19,
      "outputs": [
        {
          "output_type": "execute_result",
          "data": {
            "text/plain": [
              "0        24\n",
              "1        25\n",
              "2        26\n",
              "3        27\n",
              "4        28\n",
              "         ..\n",
              "17409    43\n",
              "17410    44\n",
              "17411    45\n",
              "17412    46\n",
              "17413    47\n",
              "Name: hour, Length: 17414, dtype: int64"
            ]
          },
          "metadata": {
            "tags": []
          },
          "execution_count": 19
        }
      ]
    },
    {
      "cell_type": "code",
      "metadata": {
        "id": "B0lR8mcokgce",
        "colab_type": "code",
        "colab": {
          "base_uri": "https://localhost:8080/",
          "height": 245
        },
        "outputId": "80b14af4-27ae-41e1-fc11-31f8eecdba17"
      },
      "source": [
        "# The same but args are kwords arguments now\n",
        "df_lmerged['hour'].apply(lambda x, magic: x+magic, magic=24) "
      ],
      "execution_count": 21,
      "outputs": [
        {
          "output_type": "execute_result",
          "data": {
            "text/plain": [
              "0        24\n",
              "1        25\n",
              "2        26\n",
              "3        27\n",
              "4        28\n",
              "         ..\n",
              "17409    43\n",
              "17410    44\n",
              "17411    45\n",
              "17412    46\n",
              "17413    47\n",
              "Name: hour, Length: 17414, dtype: int64"
            ]
          },
          "metadata": {
            "tags": []
          },
          "execution_count": 21
        }
      ]
    },
    {
      "cell_type": "code",
      "metadata": {
        "id": "KpySIZ4Ik41W",
        "colab_type": "code",
        "colab": {
          "base_uri": "https://localhost:8080/",
          "height": 226
        },
        "outputId": "be9df7ce-8c06-42a0-8ce2-5d64fe890e67"
      },
      "source": [
        "# Apply for a DataFrame gives to lambda every column as a serie\n",
        "df_lmerged.apply(lambda x: x.mean())"
      ],
      "execution_count": 27,
      "outputs": [
        {
          "output_type": "execute_result",
          "data": {
            "text/plain": [
              "cnt             1143.101642\n",
              "t1                12.468091\n",
              "t2                11.520836\n",
              "hum               72.324954\n",
              "wind_speed        15.913063\n",
              "weather_code       2.722752\n",
              "is_holiday         0.022051\n",
              "is_weekend         0.285403\n",
              "season             1.492075\n",
              "hour              11.513265\n",
              "dtype: float64"
            ]
          },
          "metadata": {
            "tags": []
          },
          "execution_count": 27
        }
      ]
    },
    {
      "cell_type": "code",
      "metadata": {
        "id": "ELUr-TxilNka",
        "colab_type": "code",
        "colab": {
          "base_uri": "https://localhost:8080/",
          "height": 245
        },
        "outputId": "d13795fc-cee4-4aee-be46-dd5a35980a86"
      },
      "source": [
        "df_lmerged.apply(lambda x: x.mean(), axis=1)"
      ],
      "execution_count": 28,
      "outputs": [
        {
          "output_type": "execute_result",
          "data": {
            "text/plain": [
              "0         29.30\n",
              "1         24.75\n",
              "2         24.25\n",
              "3         18.40\n",
              "4         15.75\n",
              "          ...  \n",
              "17409    117.30\n",
              "17410     67.60\n",
              "17411     47.45\n",
              "17412     35.90\n",
              "17413     27.10\n",
              "Length: 17414, dtype: float64"
            ]
          },
          "metadata": {
            "tags": []
          },
          "execution_count": 28
        }
      ]
    },
    {
      "cell_type": "code",
      "metadata": {
        "id": "K7NRNctJlwbt",
        "colab_type": "code",
        "colab": {
          "base_uri": "https://localhost:8080/",
          "height": 419
        },
        "outputId": "f161cc94-9fde-413a-b4ae-d041c5a98baa"
      },
      "source": [
        "# Maps every DataFrame value\n",
        "df_lmerged.applymap(lambda x: x/100)"
      ],
      "execution_count": 30,
      "outputs": [
        {
          "output_type": "execute_result",
          "data": {
            "text/html": [
              "<div>\n",
              "<style scoped>\n",
              "    .dataframe tbody tr th:only-of-type {\n",
              "        vertical-align: middle;\n",
              "    }\n",
              "\n",
              "    .dataframe tbody tr th {\n",
              "        vertical-align: top;\n",
              "    }\n",
              "\n",
              "    .dataframe thead th {\n",
              "        text-align: right;\n",
              "    }\n",
              "</style>\n",
              "<table border=\"1\" class=\"dataframe\">\n",
              "  <thead>\n",
              "    <tr style=\"text-align: right;\">\n",
              "      <th></th>\n",
              "      <th>cnt</th>\n",
              "      <th>t1</th>\n",
              "      <th>t2</th>\n",
              "      <th>hum</th>\n",
              "      <th>wind_speed</th>\n",
              "      <th>weather_code</th>\n",
              "      <th>is_holiday</th>\n",
              "      <th>is_weekend</th>\n",
              "      <th>season</th>\n",
              "      <th>hour</th>\n",
              "    </tr>\n",
              "  </thead>\n",
              "  <tbody>\n",
              "    <tr>\n",
              "      <th>0</th>\n",
              "      <td>1.82</td>\n",
              "      <td>0.030</td>\n",
              "      <td>0.020</td>\n",
              "      <td>0.930</td>\n",
              "      <td>0.060</td>\n",
              "      <td>0.03</td>\n",
              "      <td>0.0</td>\n",
              "      <td>0.01</td>\n",
              "      <td>0.03</td>\n",
              "      <td>0.00</td>\n",
              "    </tr>\n",
              "    <tr>\n",
              "      <th>1</th>\n",
              "      <td>1.38</td>\n",
              "      <td>0.030</td>\n",
              "      <td>0.025</td>\n",
              "      <td>0.930</td>\n",
              "      <td>0.050</td>\n",
              "      <td>0.01</td>\n",
              "      <td>0.0</td>\n",
              "      <td>0.01</td>\n",
              "      <td>0.03</td>\n",
              "      <td>0.01</td>\n",
              "    </tr>\n",
              "    <tr>\n",
              "      <th>2</th>\n",
              "      <td>1.34</td>\n",
              "      <td>0.025</td>\n",
              "      <td>0.025</td>\n",
              "      <td>0.965</td>\n",
              "      <td>0.000</td>\n",
              "      <td>0.01</td>\n",
              "      <td>0.0</td>\n",
              "      <td>0.01</td>\n",
              "      <td>0.03</td>\n",
              "      <td>0.02</td>\n",
              "    </tr>\n",
              "    <tr>\n",
              "      <th>3</th>\n",
              "      <td>0.72</td>\n",
              "      <td>0.020</td>\n",
              "      <td>0.020</td>\n",
              "      <td>1.000</td>\n",
              "      <td>0.000</td>\n",
              "      <td>0.01</td>\n",
              "      <td>0.0</td>\n",
              "      <td>0.01</td>\n",
              "      <td>0.03</td>\n",
              "      <td>0.03</td>\n",
              "    </tr>\n",
              "    <tr>\n",
              "      <th>4</th>\n",
              "      <td>0.47</td>\n",
              "      <td>0.020</td>\n",
              "      <td>0.000</td>\n",
              "      <td>0.930</td>\n",
              "      <td>0.065</td>\n",
              "      <td>0.01</td>\n",
              "      <td>0.0</td>\n",
              "      <td>0.01</td>\n",
              "      <td>0.03</td>\n",
              "      <td>0.04</td>\n",
              "    </tr>\n",
              "    <tr>\n",
              "      <th>...</th>\n",
              "      <td>...</td>\n",
              "      <td>...</td>\n",
              "      <td>...</td>\n",
              "      <td>...</td>\n",
              "      <td>...</td>\n",
              "      <td>...</td>\n",
              "      <td>...</td>\n",
              "      <td>...</td>\n",
              "      <td>...</td>\n",
              "      <td>...</td>\n",
              "    </tr>\n",
              "    <tr>\n",
              "      <th>17409</th>\n",
              "      <td>10.42</td>\n",
              "      <td>0.050</td>\n",
              "      <td>0.010</td>\n",
              "      <td>0.810</td>\n",
              "      <td>0.190</td>\n",
              "      <td>0.03</td>\n",
              "      <td>0.0</td>\n",
              "      <td>0.00</td>\n",
              "      <td>0.03</td>\n",
              "      <td>0.19</td>\n",
              "    </tr>\n",
              "    <tr>\n",
              "      <th>17410</th>\n",
              "      <td>5.41</td>\n",
              "      <td>0.050</td>\n",
              "      <td>0.010</td>\n",
              "      <td>0.810</td>\n",
              "      <td>0.210</td>\n",
              "      <td>0.04</td>\n",
              "      <td>0.0</td>\n",
              "      <td>0.00</td>\n",
              "      <td>0.03</td>\n",
              "      <td>0.20</td>\n",
              "    </tr>\n",
              "    <tr>\n",
              "      <th>17411</th>\n",
              "      <td>3.37</td>\n",
              "      <td>0.055</td>\n",
              "      <td>0.015</td>\n",
              "      <td>0.785</td>\n",
              "      <td>0.240</td>\n",
              "      <td>0.04</td>\n",
              "      <td>0.0</td>\n",
              "      <td>0.00</td>\n",
              "      <td>0.03</td>\n",
              "      <td>0.21</td>\n",
              "    </tr>\n",
              "    <tr>\n",
              "      <th>17412</th>\n",
              "      <td>2.24</td>\n",
              "      <td>0.055</td>\n",
              "      <td>0.015</td>\n",
              "      <td>0.760</td>\n",
              "      <td>0.230</td>\n",
              "      <td>0.04</td>\n",
              "      <td>0.0</td>\n",
              "      <td>0.00</td>\n",
              "      <td>0.03</td>\n",
              "      <td>0.22</td>\n",
              "    </tr>\n",
              "    <tr>\n",
              "      <th>17413</th>\n",
              "      <td>1.39</td>\n",
              "      <td>0.050</td>\n",
              "      <td>0.010</td>\n",
              "      <td>0.760</td>\n",
              "      <td>0.220</td>\n",
              "      <td>0.02</td>\n",
              "      <td>0.0</td>\n",
              "      <td>0.00</td>\n",
              "      <td>0.03</td>\n",
              "      <td>0.23</td>\n",
              "    </tr>\n",
              "  </tbody>\n",
              "</table>\n",
              "<p>17414 rows × 10 columns</p>\n",
              "</div>"
            ],
            "text/plain": [
              "         cnt     t1     t2    hum  ...  is_holiday  is_weekend  season  hour\n",
              "0       1.82  0.030  0.020  0.930  ...         0.0        0.01    0.03  0.00\n",
              "1       1.38  0.030  0.025  0.930  ...         0.0        0.01    0.03  0.01\n",
              "2       1.34  0.025  0.025  0.965  ...         0.0        0.01    0.03  0.02\n",
              "3       0.72  0.020  0.020  1.000  ...         0.0        0.01    0.03  0.03\n",
              "4       0.47  0.020  0.000  0.930  ...         0.0        0.01    0.03  0.04\n",
              "...      ...    ...    ...    ...  ...         ...         ...     ...   ...\n",
              "17409  10.42  0.050  0.010  0.810  ...         0.0        0.00    0.03  0.19\n",
              "17410   5.41  0.050  0.010  0.810  ...         0.0        0.00    0.03  0.20\n",
              "17411   3.37  0.055  0.015  0.785  ...         0.0        0.00    0.03  0.21\n",
              "17412   2.24  0.055  0.015  0.760  ...         0.0        0.00    0.03  0.22\n",
              "17413   1.39  0.050  0.010  0.760  ...         0.0        0.00    0.03  0.23\n",
              "\n",
              "[17414 rows x 10 columns]"
            ]
          },
          "metadata": {
            "tags": []
          },
          "execution_count": 30
        }
      ]
    },
    {
      "cell_type": "code",
      "metadata": {
        "id": "1_fnEQkwmDZo",
        "colab_type": "code",
        "colab": {}
      },
      "source": [
        ""
      ],
      "execution_count": 0,
      "outputs": []
    }
  ]
}