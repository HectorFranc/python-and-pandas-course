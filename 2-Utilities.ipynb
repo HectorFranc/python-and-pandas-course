{
  "nbformat": 4,
  "nbformat_minor": 0,
  "metadata": {
    "colab": {
      "name": "2.-Utilidades.ipynb",
      "provenance": [],
      "collapsed_sections": [
        "H66jTNq4dXKd",
        "JetXVEgJdbXV",
        "VM6Po8iIew30",
        "jJFy7C1ke0Rc",
        "u9Uv0R33fWr0",
        "lhiheR3UgldY",
        "JQj6jqNOg6o7",
        "Lm_-sxldmMla",
        "rOByYmQ8ofNz"
      ],
      "authorship_tag": "ABX9TyNBT5ia4gq2Dz7QZFiXxMAE"
    },
    "kernelspec": {
      "name": "python3",
      "display_name": "Python 3"
    }
  },
  "cells": [
    {
      "cell_type": "code",
      "metadata": {
        "id": "tOXzOLfIWngb",
        "colab_type": "code",
        "colab": {}
      },
      "source": [
        "from google.colab import drive\n",
        "drive.mount('/gdrive')"
      ],
      "execution_count": 0,
      "outputs": []
    },
    {
      "cell_type": "code",
      "metadata": {
        "id": "kKlJtjnAZ9MH",
        "colab_type": "code",
        "colab": {
          "base_uri": "https://localhost:8080/",
          "height": 36
        },
        "outputId": "82475fd4-69e4-4eae-d429-9ce557fd1be6"
      },
      "source": [
        "%cd /gdrive/My\\ Drive/Colab\\ Notebooks/db"
      ],
      "execution_count": 11,
      "outputs": [
        {
          "output_type": "stream",
          "text": [
            "/gdrive/My Drive/Colab Notebooks/db\n"
          ],
          "name": "stdout"
        }
      ]
    },
    {
      "cell_type": "code",
      "metadata": {
        "id": "-MttjvfeaAtX",
        "colab_type": "code",
        "colab": {}
      },
      "source": [
        "!wget https://data.nasa.gov/api/views/gh4g-9sfh/rows.csv?accessType=DOWNLOAD\n",
        "!mv 'rows.csv?accessType=DOWNLOAD' meteorite.csv"
      ],
      "execution_count": 0,
      "outputs": []
    },
    {
      "cell_type": "code",
      "metadata": {
        "id": "kXIYFe_maK96",
        "colab_type": "code",
        "colab": {}
      },
      "source": [
        "import pandas as pd\n",
        "import numpy as np"
      ],
      "execution_count": 0,
      "outputs": []
    },
    {
      "cell_type": "code",
      "metadata": {
        "id": "YpCemIhbaR1L",
        "colab_type": "code",
        "colab": {
          "base_uri": "https://localhost:8080/",
          "height": 204
        },
        "outputId": "e89fb6f5-cc4f-436f-952e-f3584a22abc5"
      },
      "source": [
        "df_meteorites = pd.read_csv('meteorite.csv')\n",
        "df_meteorites.sample(5)"
      ],
      "execution_count": 25,
      "outputs": [
        {
          "output_type": "execute_result",
          "data": {
            "text/html": [
              "<div>\n",
              "<style scoped>\n",
              "    .dataframe tbody tr th:only-of-type {\n",
              "        vertical-align: middle;\n",
              "    }\n",
              "\n",
              "    .dataframe tbody tr th {\n",
              "        vertical-align: top;\n",
              "    }\n",
              "\n",
              "    .dataframe thead th {\n",
              "        text-align: right;\n",
              "    }\n",
              "</style>\n",
              "<table border=\"1\" class=\"dataframe\">\n",
              "  <thead>\n",
              "    <tr style=\"text-align: right;\">\n",
              "      <th></th>\n",
              "      <th>name</th>\n",
              "      <th>id</th>\n",
              "      <th>nametype</th>\n",
              "      <th>recclass</th>\n",
              "      <th>mass (g)</th>\n",
              "      <th>fall</th>\n",
              "      <th>year</th>\n",
              "      <th>reclat</th>\n",
              "      <th>reclong</th>\n",
              "      <th>GeoLocation</th>\n",
              "    </tr>\n",
              "  </thead>\n",
              "  <tbody>\n",
              "    <tr>\n",
              "      <th>6783</th>\n",
              "      <td>Daraj 112</td>\n",
              "      <td>6571</td>\n",
              "      <td>Valid</td>\n",
              "      <td>L5/6</td>\n",
              "      <td>215.0</td>\n",
              "      <td>Found</td>\n",
              "      <td>01/01/1986 12:00:00 AM</td>\n",
              "      <td>29.66472</td>\n",
              "      <td>11.77639</td>\n",
              "      <td>(29.66472, 11.77639)</td>\n",
              "    </tr>\n",
              "    <tr>\n",
              "      <th>11932</th>\n",
              "      <td>Frontier Mountain 01169</td>\n",
              "      <td>10351</td>\n",
              "      <td>Valid</td>\n",
              "      <td>H6</td>\n",
              "      <td>6.2</td>\n",
              "      <td>Found</td>\n",
              "      <td>01/01/2001 12:00:00 AM</td>\n",
              "      <td>-72.95278</td>\n",
              "      <td>160.52222</td>\n",
              "      <td>(-72.95278, 160.52222)</td>\n",
              "    </tr>\n",
              "    <tr>\n",
              "      <th>34434</th>\n",
              "      <td>Queen Alexandra Range 97800</td>\n",
              "      <td>21255</td>\n",
              "      <td>Valid</td>\n",
              "      <td>H6</td>\n",
              "      <td>126.5</td>\n",
              "      <td>Found</td>\n",
              "      <td>01/01/1997 12:00:00 AM</td>\n",
              "      <td>-84.00000</td>\n",
              "      <td>168.00000</td>\n",
              "      <td>(-84.0, 168.0)</td>\n",
              "    </tr>\n",
              "    <tr>\n",
              "      <th>19172</th>\n",
              "      <td>Larkman Nunatak 06327</td>\n",
              "      <td>49591</td>\n",
              "      <td>Valid</td>\n",
              "      <td>LL6</td>\n",
              "      <td>286.1</td>\n",
              "      <td>Found</td>\n",
              "      <td>01/01/2006 12:00:00 AM</td>\n",
              "      <td>0.00000</td>\n",
              "      <td>0.00000</td>\n",
              "      <td>(0.0, 0.0)</td>\n",
              "    </tr>\n",
              "    <tr>\n",
              "      <th>35504</th>\n",
              "      <td>Queen Alexandra Range 99877</td>\n",
              "      <td>22321</td>\n",
              "      <td>Valid</td>\n",
              "      <td>LL5</td>\n",
              "      <td>16.8</td>\n",
              "      <td>Found</td>\n",
              "      <td>01/01/1999 12:00:00 AM</td>\n",
              "      <td>-84.00000</td>\n",
              "      <td>168.00000</td>\n",
              "      <td>(-84.0, 168.0)</td>\n",
              "    </tr>\n",
              "  </tbody>\n",
              "</table>\n",
              "</div>"
            ],
            "text/plain": [
              "                              name     id  ...    reclong             GeoLocation\n",
              "6783                     Daraj 112   6571  ...   11.77639    (29.66472, 11.77639)\n",
              "11932      Frontier Mountain 01169  10351  ...  160.52222  (-72.95278, 160.52222)\n",
              "34434  Queen Alexandra Range 97800  21255  ...  168.00000          (-84.0, 168.0)\n",
              "19172        Larkman Nunatak 06327  49591  ...    0.00000              (0.0, 0.0)\n",
              "35504  Queen Alexandra Range 99877  22321  ...  168.00000          (-84.0, 168.0)\n",
              "\n",
              "[5 rows x 10 columns]"
            ]
          },
          "metadata": {
            "tags": []
          },
          "execution_count": 25
        }
      ]
    },
    {
      "cell_type": "markdown",
      "metadata": {
        "id": "H66jTNq4dXKd",
        "colab_type": "text"
      },
      "source": [
        "## Data Loading\n",
        "---"
      ]
    },
    {
      "cell_type": "code",
      "metadata": {
        "id": "WhTvjgB9adVB",
        "colab_type": "code",
        "colab": {
          "base_uri": "https://localhost:8080/",
          "height": 36
        },
        "outputId": "3a3a64e1-72e2-4fa2-b7f7-40b8d09364a5"
      },
      "source": [
        "df_meteorites.shape"
      ],
      "execution_count": 26,
      "outputs": [
        {
          "output_type": "execute_result",
          "data": {
            "text/plain": [
              "(45716, 10)"
            ]
          },
          "metadata": {
            "tags": []
          },
          "execution_count": 26
        }
      ]
    },
    {
      "cell_type": "code",
      "metadata": {
        "id": "ZCYB4iH7azOx",
        "colab_type": "code",
        "colab": {
          "base_uri": "https://localhost:8080/",
          "height": 297
        },
        "outputId": "63ad7e6b-d2c5-4bf2-93fc-c4c1040b8a20"
      },
      "source": [
        "df_meteorites.describe()"
      ],
      "execution_count": 27,
      "outputs": [
        {
          "output_type": "execute_result",
          "data": {
            "text/html": [
              "<div>\n",
              "<style scoped>\n",
              "    .dataframe tbody tr th:only-of-type {\n",
              "        vertical-align: middle;\n",
              "    }\n",
              "\n",
              "    .dataframe tbody tr th {\n",
              "        vertical-align: top;\n",
              "    }\n",
              "\n",
              "    .dataframe thead th {\n",
              "        text-align: right;\n",
              "    }\n",
              "</style>\n",
              "<table border=\"1\" class=\"dataframe\">\n",
              "  <thead>\n",
              "    <tr style=\"text-align: right;\">\n",
              "      <th></th>\n",
              "      <th>id</th>\n",
              "      <th>mass (g)</th>\n",
              "      <th>reclat</th>\n",
              "      <th>reclong</th>\n",
              "    </tr>\n",
              "  </thead>\n",
              "  <tbody>\n",
              "    <tr>\n",
              "      <th>count</th>\n",
              "      <td>45716.000000</td>\n",
              "      <td>4.558500e+04</td>\n",
              "      <td>38401.000000</td>\n",
              "      <td>38401.000000</td>\n",
              "    </tr>\n",
              "    <tr>\n",
              "      <th>mean</th>\n",
              "      <td>26889.735104</td>\n",
              "      <td>1.327808e+04</td>\n",
              "      <td>-39.122580</td>\n",
              "      <td>61.074319</td>\n",
              "    </tr>\n",
              "    <tr>\n",
              "      <th>std</th>\n",
              "      <td>16860.683030</td>\n",
              "      <td>5.749889e+05</td>\n",
              "      <td>46.378511</td>\n",
              "      <td>80.647298</td>\n",
              "    </tr>\n",
              "    <tr>\n",
              "      <th>min</th>\n",
              "      <td>1.000000</td>\n",
              "      <td>0.000000e+00</td>\n",
              "      <td>-87.366670</td>\n",
              "      <td>-165.433330</td>\n",
              "    </tr>\n",
              "    <tr>\n",
              "      <th>25%</th>\n",
              "      <td>12688.750000</td>\n",
              "      <td>7.200000e+00</td>\n",
              "      <td>-76.714240</td>\n",
              "      <td>0.000000</td>\n",
              "    </tr>\n",
              "    <tr>\n",
              "      <th>50%</th>\n",
              "      <td>24261.500000</td>\n",
              "      <td>3.260000e+01</td>\n",
              "      <td>-71.500000</td>\n",
              "      <td>35.666670</td>\n",
              "    </tr>\n",
              "    <tr>\n",
              "      <th>75%</th>\n",
              "      <td>40656.750000</td>\n",
              "      <td>2.026000e+02</td>\n",
              "      <td>0.000000</td>\n",
              "      <td>157.166670</td>\n",
              "    </tr>\n",
              "    <tr>\n",
              "      <th>max</th>\n",
              "      <td>57458.000000</td>\n",
              "      <td>6.000000e+07</td>\n",
              "      <td>81.166670</td>\n",
              "      <td>354.473330</td>\n",
              "    </tr>\n",
              "  </tbody>\n",
              "</table>\n",
              "</div>"
            ],
            "text/plain": [
              "                 id      mass (g)        reclat       reclong\n",
              "count  45716.000000  4.558500e+04  38401.000000  38401.000000\n",
              "mean   26889.735104  1.327808e+04    -39.122580     61.074319\n",
              "std    16860.683030  5.749889e+05     46.378511     80.647298\n",
              "min        1.000000  0.000000e+00    -87.366670   -165.433330\n",
              "25%    12688.750000  7.200000e+00    -76.714240      0.000000\n",
              "50%    24261.500000  3.260000e+01    -71.500000     35.666670\n",
              "75%    40656.750000  2.026000e+02      0.000000    157.166670\n",
              "max    57458.000000  6.000000e+07     81.166670    354.473330"
            ]
          },
          "metadata": {
            "tags": []
          },
          "execution_count": 27
        }
      ]
    },
    {
      "cell_type": "code",
      "metadata": {
        "id": "wtlynP-hbgII",
        "colab_type": "code",
        "colab": {
          "base_uri": "https://localhost:8080/",
          "height": 340
        },
        "outputId": "a4f60651-d643-49c6-8471-4a2672f97958"
      },
      "source": [
        "df_meteorites.info()"
      ],
      "execution_count": 28,
      "outputs": [
        {
          "output_type": "stream",
          "text": [
            "<class 'pandas.core.frame.DataFrame'>\n",
            "RangeIndex: 45716 entries, 0 to 45715\n",
            "Data columns (total 10 columns):\n",
            " #   Column       Non-Null Count  Dtype  \n",
            "---  ------       --------------  -----  \n",
            " 0   name         45716 non-null  object \n",
            " 1   id           45716 non-null  int64  \n",
            " 2   nametype     45716 non-null  object \n",
            " 3   recclass     45716 non-null  object \n",
            " 4   mass (g)     45585 non-null  float64\n",
            " 5   fall         45716 non-null  object \n",
            " 6   year         45425 non-null  object \n",
            " 7   reclat       38401 non-null  float64\n",
            " 8   reclong      38401 non-null  float64\n",
            " 9   GeoLocation  38401 non-null  object \n",
            "dtypes: float64(3), int64(1), object(6)\n",
            "memory usage: 3.5+ MB\n"
          ],
          "name": "stdout"
        }
      ]
    },
    {
      "cell_type": "code",
      "metadata": {
        "id": "7aE5X4UgcBGd",
        "colab_type": "code",
        "colab": {
          "base_uri": "https://localhost:8080/",
          "height": 226
        },
        "outputId": "5599963b-2794-467a-c2a7-1824ae15387c"
      },
      "source": [
        "df_meteorites.dtypes"
      ],
      "execution_count": 29,
      "outputs": [
        {
          "output_type": "execute_result",
          "data": {
            "text/plain": [
              "name            object\n",
              "id               int64\n",
              "nametype        object\n",
              "recclass        object\n",
              "mass (g)       float64\n",
              "fall            object\n",
              "year            object\n",
              "reclat         float64\n",
              "reclong        float64\n",
              "GeoLocation     object\n",
              "dtype: object"
            ]
          },
          "metadata": {
            "tags": []
          },
          "execution_count": 29
        }
      ]
    },
    {
      "cell_type": "code",
      "metadata": {
        "id": "V90b9IAhcHaZ",
        "colab_type": "code",
        "colab": {
          "base_uri": "https://localhost:8080/",
          "height": 226
        },
        "outputId": "babfa8bf-e3ca-4435-ceff-e3fc3423429a"
      },
      "source": [
        "# Each column now uses the best dtype for its data\n",
        "df_meteorites.convert_dtypes().dtypes"
      ],
      "execution_count": 30,
      "outputs": [
        {
          "output_type": "execute_result",
          "data": {
            "text/plain": [
              "name            string\n",
              "id               Int64\n",
              "nametype        string\n",
              "recclass        string\n",
              "mass (g)       float64\n",
              "fall            string\n",
              "year            string\n",
              "reclat         float64\n",
              "reclong        float64\n",
              "GeoLocation     string\n",
              "dtype: object"
            ]
          },
          "metadata": {
            "tags": []
          },
          "execution_count": 30
        }
      ]
    },
    {
      "cell_type": "markdown",
      "metadata": {
        "id": "JetXVEgJdbXV",
        "colab_type": "text"
      },
      "source": [
        "## Pandas utilities\n",
        "---"
      ]
    },
    {
      "cell_type": "markdown",
      "metadata": {
        "id": "VM6Po8iIew30",
        "colab_type": "text"
      },
      "source": [
        "### Categories"
      ]
    },
    {
      "cell_type": "code",
      "metadata": {
        "id": "Y3Hi4YLxcWJs",
        "colab_type": "code",
        "colab": {}
      },
      "source": [
        "df_meteorites[['nametype', 'fall']] = df_meteorites[['nametype', 'fall']].astype('category')"
      ],
      "execution_count": 0,
      "outputs": []
    },
    {
      "cell_type": "code",
      "metadata": {
        "id": "uDWg6OzhdgQa",
        "colab_type": "code",
        "colab": {
          "base_uri": "https://localhost:8080/",
          "height": 226
        },
        "outputId": "fdf982fa-e9eb-4a7b-96ab-b311ab07af38"
      },
      "source": [
        "df_meteorites.dtypes"
      ],
      "execution_count": 35,
      "outputs": [
        {
          "output_type": "execute_result",
          "data": {
            "text/plain": [
              "name             object\n",
              "id                int64\n",
              "nametype       category\n",
              "recclass         object\n",
              "mass (g)        float64\n",
              "fall           category\n",
              "year             object\n",
              "reclat          float64\n",
              "reclong         float64\n",
              "GeoLocation      object\n",
              "dtype: object"
            ]
          },
          "metadata": {
            "tags": []
          },
          "execution_count": 35
        }
      ]
    },
    {
      "cell_type": "code",
      "metadata": {
        "id": "GAlRLmQhdyqt",
        "colab_type": "code",
        "colab": {
          "base_uri": "https://localhost:8080/",
          "height": 55
        },
        "outputId": "c9ba87df-828b-40f3-d71b-83fec5fd33a0"
      },
      "source": [
        "df_meteorites['fall'].unique()"
      ],
      "execution_count": 36,
      "outputs": [
        {
          "output_type": "execute_result",
          "data": {
            "text/plain": [
              "[Fell, Found]\n",
              "Categories (2, object): [Fell, Found]"
            ]
          },
          "metadata": {
            "tags": []
          },
          "execution_count": 36
        }
      ]
    },
    {
      "cell_type": "code",
      "metadata": {
        "id": "GJTfvEGtd3VH",
        "colab_type": "code",
        "colab": {
          "base_uri": "https://localhost:8080/",
          "height": 74
        },
        "outputId": "50143173-8ed3-4cad-a8ba-37e29dc72b2a"
      },
      "source": [
        "df_meteorites['fall'].value_counts()"
      ],
      "execution_count": 37,
      "outputs": [
        {
          "output_type": "execute_result",
          "data": {
            "text/plain": [
              "Found    44609\n",
              "Fell      1107\n",
              "Name: fall, dtype: int64"
            ]
          },
          "metadata": {
            "tags": []
          },
          "execution_count": 37
        }
      ]
    },
    {
      "cell_type": "markdown",
      "metadata": {
        "id": "jJFy7C1ke0Rc",
        "colab_type": "text"
      },
      "source": [
        "### get_dummies"
      ]
    },
    {
      "cell_type": "code",
      "metadata": {
        "id": "DBQ2JpHAd6JQ",
        "colab_type": "code",
        "colab": {}
      },
      "source": [
        "df_meteorites[['fell', 'found']] = pd.get_dummies(df_meteorites['fall'])"
      ],
      "execution_count": 0,
      "outputs": []
    },
    {
      "cell_type": "code",
      "metadata": {
        "id": "Ec_u5X5ZeWMx",
        "colab_type": "code",
        "colab": {
          "base_uri": "https://localhost:8080/",
          "height": 80
        },
        "outputId": "f2c905e6-9703-442c-c29e-3d6e5e5b9556"
      },
      "source": [
        "df_meteorites.sample()"
      ],
      "execution_count": 44,
      "outputs": [
        {
          "output_type": "execute_result",
          "data": {
            "text/html": [
              "<div>\n",
              "<style scoped>\n",
              "    .dataframe tbody tr th:only-of-type {\n",
              "        vertical-align: middle;\n",
              "    }\n",
              "\n",
              "    .dataframe tbody tr th {\n",
              "        vertical-align: top;\n",
              "    }\n",
              "\n",
              "    .dataframe thead th {\n",
              "        text-align: right;\n",
              "    }\n",
              "</style>\n",
              "<table border=\"1\" class=\"dataframe\">\n",
              "  <thead>\n",
              "    <tr style=\"text-align: right;\">\n",
              "      <th></th>\n",
              "      <th>name</th>\n",
              "      <th>id</th>\n",
              "      <th>nametype</th>\n",
              "      <th>recclass</th>\n",
              "      <th>mass (g)</th>\n",
              "      <th>fall</th>\n",
              "      <th>year</th>\n",
              "      <th>reclat</th>\n",
              "      <th>reclong</th>\n",
              "      <th>GeoLocation</th>\n",
              "      <th>fell</th>\n",
              "      <th>found</th>\n",
              "    </tr>\n",
              "  </thead>\n",
              "  <tbody>\n",
              "    <tr>\n",
              "      <th>21675</th>\n",
              "      <td>Lookout Hill</td>\n",
              "      <td>14697</td>\n",
              "      <td>Valid</td>\n",
              "      <td>CM2</td>\n",
              "      <td>16.6</td>\n",
              "      <td>Found</td>\n",
              "      <td>01/01/1976 12:00:00 AM</td>\n",
              "      <td>-30.09056</td>\n",
              "      <td>128.80583</td>\n",
              "      <td>(-30.09056, 128.80583)</td>\n",
              "      <td>0</td>\n",
              "      <td>1</td>\n",
              "    </tr>\n",
              "  </tbody>\n",
              "</table>\n",
              "</div>"
            ],
            "text/plain": [
              "               name     id nametype  ...             GeoLocation  fell found\n",
              "21675  Lookout Hill  14697    Valid  ...  (-30.09056, 128.80583)     0     1\n",
              "\n",
              "[1 rows x 12 columns]"
            ]
          },
          "metadata": {
            "tags": []
          },
          "execution_count": 44
        }
      ]
    },
    {
      "cell_type": "markdown",
      "metadata": {
        "id": "u9Uv0R33fWr0",
        "colab_type": "text"
      },
      "source": [
        "### DateTimes"
      ]
    },
    {
      "cell_type": "code",
      "metadata": {
        "id": "oc6jDG24eub-",
        "colab_type": "code",
        "colab": {}
      },
      "source": [
        "df_meteorites['year'] = pd.to_datetime(\n",
        "    df_meteorites['year'], \n",
        "    errors='coerce', \n",
        "    format='%m/%d/%Y %H:%M:%S %p'\n",
        "  )"
      ],
      "execution_count": 0,
      "outputs": []
    },
    {
      "cell_type": "code",
      "metadata": {
        "id": "PZSn96iSgKKT",
        "colab_type": "code",
        "colab": {
          "base_uri": "https://localhost:8080/",
          "height": 264
        },
        "outputId": "e4f27fce-2066-4c67-d05b-89d0f2945828"
      },
      "source": [
        "df_meteorites.dtypes"
      ],
      "execution_count": 47,
      "outputs": [
        {
          "output_type": "execute_result",
          "data": {
            "text/plain": [
              "name                   object\n",
              "id                      int64\n",
              "nametype             category\n",
              "recclass               object\n",
              "mass (g)              float64\n",
              "fall                 category\n",
              "year           datetime64[ns]\n",
              "reclat                float64\n",
              "reclong               float64\n",
              "GeoLocation            object\n",
              "fell                    uint8\n",
              "found                   uint8\n",
              "dtype: object"
            ]
          },
          "metadata": {
            "tags": []
          },
          "execution_count": 47
        }
      ]
    },
    {
      "cell_type": "markdown",
      "metadata": {
        "id": "lhiheR3UgldY",
        "colab_type": "text"
      },
      "source": [
        "### Rename"
      ]
    },
    {
      "cell_type": "code",
      "metadata": {
        "id": "NxQ3EF1ugkTu",
        "colab_type": "code",
        "colab": {}
      },
      "source": [
        "df_meteorites.rename({'mass (g)': 'mass'}, axis='columns', inplace=True)"
      ],
      "execution_count": 0,
      "outputs": []
    },
    {
      "cell_type": "code",
      "metadata": {
        "id": "48ujiCPXgyDo",
        "colab_type": "code",
        "colab": {
          "base_uri": "https://localhost:8080/",
          "height": 74
        },
        "outputId": "e709d3d8-f4a9-40b0-8f59-dc226b973dd6"
      },
      "source": [
        "df_meteorites.columns"
      ],
      "execution_count": 58,
      "outputs": [
        {
          "output_type": "execute_result",
          "data": {
            "text/plain": [
              "Index(['name', 'id', 'nametype', 'recclass', 'mass', 'fall', 'year', 'reclat',\n",
              "       'reclong', 'GeoLocation', 'fell', 'found'],\n",
              "      dtype='object')"
            ]
          },
          "metadata": {
            "tags": []
          },
          "execution_count": 58
        }
      ]
    },
    {
      "cell_type": "markdown",
      "metadata": {
        "id": "JQj6jqNOg6o7",
        "colab_type": "text"
      },
      "source": [
        "## Borrar Datos\n",
        "---"
      ]
    },
    {
      "cell_type": "markdown",
      "metadata": {
        "id": "Lm_-sxldmMla",
        "colab_type": "text"
      },
      "source": [
        "### Drop"
      ]
    },
    {
      "cell_type": "code",
      "metadata": {
        "id": "Efydt50Gg0br",
        "colab_type": "code",
        "colab": {
          "base_uri": "https://localhost:8080/",
          "height": 204
        },
        "outputId": "7da9bbbe-e78d-4e43-b1ba-ad4d0464d81f"
      },
      "source": [
        "# List of rows/columns names and axis\n",
        "df_meteorites['ones'] = 1\n",
        "df_meteorites.drop(['ones'], axis=1, inplace=True)\n",
        "df_meteorites.head()"
      ],
      "execution_count": 61,
      "outputs": [
        {
          "output_type": "execute_result",
          "data": {
            "text/html": [
              "<div>\n",
              "<style scoped>\n",
              "    .dataframe tbody tr th:only-of-type {\n",
              "        vertical-align: middle;\n",
              "    }\n",
              "\n",
              "    .dataframe tbody tr th {\n",
              "        vertical-align: top;\n",
              "    }\n",
              "\n",
              "    .dataframe thead th {\n",
              "        text-align: right;\n",
              "    }\n",
              "</style>\n",
              "<table border=\"1\" class=\"dataframe\">\n",
              "  <thead>\n",
              "    <tr style=\"text-align: right;\">\n",
              "      <th></th>\n",
              "      <th>name</th>\n",
              "      <th>id</th>\n",
              "      <th>nametype</th>\n",
              "      <th>recclass</th>\n",
              "      <th>mass</th>\n",
              "      <th>fall</th>\n",
              "      <th>year</th>\n",
              "      <th>reclat</th>\n",
              "      <th>reclong</th>\n",
              "      <th>GeoLocation</th>\n",
              "      <th>fell</th>\n",
              "      <th>found</th>\n",
              "    </tr>\n",
              "  </thead>\n",
              "  <tbody>\n",
              "    <tr>\n",
              "      <th>0</th>\n",
              "      <td>Aachen</td>\n",
              "      <td>1</td>\n",
              "      <td>Valid</td>\n",
              "      <td>L5</td>\n",
              "      <td>21.0</td>\n",
              "      <td>Fell</td>\n",
              "      <td>1880-01-01 12:00:00</td>\n",
              "      <td>50.77500</td>\n",
              "      <td>6.08333</td>\n",
              "      <td>(50.775, 6.08333)</td>\n",
              "      <td>1</td>\n",
              "      <td>0</td>\n",
              "    </tr>\n",
              "    <tr>\n",
              "      <th>1</th>\n",
              "      <td>Aarhus</td>\n",
              "      <td>2</td>\n",
              "      <td>Valid</td>\n",
              "      <td>H6</td>\n",
              "      <td>720.0</td>\n",
              "      <td>Fell</td>\n",
              "      <td>1951-01-01 12:00:00</td>\n",
              "      <td>56.18333</td>\n",
              "      <td>10.23333</td>\n",
              "      <td>(56.18333, 10.23333)</td>\n",
              "      <td>1</td>\n",
              "      <td>0</td>\n",
              "    </tr>\n",
              "    <tr>\n",
              "      <th>2</th>\n",
              "      <td>Abee</td>\n",
              "      <td>6</td>\n",
              "      <td>Valid</td>\n",
              "      <td>EH4</td>\n",
              "      <td>107000.0</td>\n",
              "      <td>Fell</td>\n",
              "      <td>1952-01-01 12:00:00</td>\n",
              "      <td>54.21667</td>\n",
              "      <td>-113.00000</td>\n",
              "      <td>(54.21667, -113.0)</td>\n",
              "      <td>1</td>\n",
              "      <td>0</td>\n",
              "    </tr>\n",
              "    <tr>\n",
              "      <th>3</th>\n",
              "      <td>Acapulco</td>\n",
              "      <td>10</td>\n",
              "      <td>Valid</td>\n",
              "      <td>Acapulcoite</td>\n",
              "      <td>1914.0</td>\n",
              "      <td>Fell</td>\n",
              "      <td>1976-01-01 12:00:00</td>\n",
              "      <td>16.88333</td>\n",
              "      <td>-99.90000</td>\n",
              "      <td>(16.88333, -99.9)</td>\n",
              "      <td>1</td>\n",
              "      <td>0</td>\n",
              "    </tr>\n",
              "    <tr>\n",
              "      <th>4</th>\n",
              "      <td>Achiras</td>\n",
              "      <td>370</td>\n",
              "      <td>Valid</td>\n",
              "      <td>L6</td>\n",
              "      <td>780.0</td>\n",
              "      <td>Fell</td>\n",
              "      <td>1902-01-01 12:00:00</td>\n",
              "      <td>-33.16667</td>\n",
              "      <td>-64.95000</td>\n",
              "      <td>(-33.16667, -64.95)</td>\n",
              "      <td>1</td>\n",
              "      <td>0</td>\n",
              "    </tr>\n",
              "  </tbody>\n",
              "</table>\n",
              "</div>"
            ],
            "text/plain": [
              "       name   id nametype  ...           GeoLocation  fell found\n",
              "0    Aachen    1    Valid  ...     (50.775, 6.08333)     1     0\n",
              "1    Aarhus    2    Valid  ...  (56.18333, 10.23333)     1     0\n",
              "2      Abee    6    Valid  ...    (54.21667, -113.0)     1     0\n",
              "3  Acapulco   10    Valid  ...     (16.88333, -99.9)     1     0\n",
              "4   Achiras  370    Valid  ...   (-33.16667, -64.95)     1     0\n",
              "\n",
              "[5 rows x 12 columns]"
            ]
          },
          "metadata": {
            "tags": []
          },
          "execution_count": 61
        }
      ]
    },
    {
      "cell_type": "code",
      "metadata": {
        "id": "TBdR6SMsmTlU",
        "colab_type": "code",
        "colab": {}
      },
      "source": [
        "# List of rows or/and columns\n",
        "df_meteorites.drop(columns=['id', 'recclass'], index=[0, 2, 4, 6], inplace=True)"
      ],
      "execution_count": 0,
      "outputs": []
    },
    {
      "cell_type": "markdown",
      "metadata": {
        "id": "rOByYmQ8ofNz",
        "colab_type": "text"
      },
      "source": [
        "### Copy"
      ]
    },
    {
      "cell_type": "code",
      "metadata": {
        "id": "JDxirUXvnoVS",
        "colab_type": "code",
        "colab": {}
      },
      "source": [
        "df_meteorites_copy = df_meteorites.copy()"
      ],
      "execution_count": 0,
      "outputs": []
    }
  ]
}